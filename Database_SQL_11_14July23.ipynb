{
  "nbformat": 4,
  "nbformat_minor": 0,
  "metadata": {
    "colab": {
      "provenance": [],
      "include_colab_link": true
    },
    "kernelspec": {
      "name": "python3",
      "display_name": "Python 3"
    },
    "language_info": {
      "name": "python"
    }
  },
  "cells": [
    {
      "cell_type": "markdown",
      "metadata": {
        "id": "view-in-github",
        "colab_type": "text"
      },
      "source": [
        "<a href=\"https://colab.research.google.com/github/Manisha1896/python/blob/main/Database_SQL_11_14July23.ipynb\" target=\"_parent\"><img src=\"https://colab.research.google.com/assets/colab-badge.svg\" alt=\"Open In Colab\"/></a>"
      ]
    },
    {
      "cell_type": "code",
      "execution_count": null,
      "metadata": {
        "id": "UK-XacOG3aYM"
      },
      "outputs": [],
      "source": [
        "#  import database library and create required table\n",
        "import sqlite3"
      ]
    },
    {
      "cell_type": "code",
      "source": [
        "#  connect to database (sqlite)\n",
        "connection = sqlite3.connect('test.db')\n"
      ],
      "metadata": {
        "id": "SjLKk_oK4Hht"
      },
      "execution_count": null,
      "outputs": []
    },
    {
      "cell_type": "code",
      "source": [
        "# cursor helps to run SQL commands one by one\n",
        "cur = connection.cursor()\n",
        "cur.execute(\"CREATE TABLE employee (eid TEXT , name TEXT , city TEXT)\")\n"
      ],
      "metadata": {
        "colab": {
          "base_uri": "https://localhost:8080/"
        },
        "id": "HiktwZqA44Si",
        "outputId": "d7d93be0-33a2-4a7b-b314-19e95ebb3133"
      },
      "execution_count": null,
      "outputs": [
        {
          "output_type": "execute_result",
          "data": {
            "text/plain": [
              "<sqlite3.Cursor at 0x7fd6f6edac40>"
            ]
          },
          "metadata": {},
          "execution_count": 5
        }
      ]
    },
    {
      "cell_type": "code",
      "source": [
        "# Insert first record in employee table\n",
        "cur.execute(\"INSERT INTO employee VALUES ('emp-01','Amit','Pune' )\")\n"
      ],
      "metadata": {
        "colab": {
          "base_uri": "https://localhost:8080/"
        },
        "id": "8-vNFp2M8u_g",
        "outputId": "260b1288-6161-498d-fd43-68b3b80df3b3"
      },
      "execution_count": null,
      "outputs": [
        {
          "output_type": "execute_result",
          "data": {
            "text/plain": [
              "<sqlite3.Cursor at 0x7fd6f6edac40>"
            ]
          },
          "metadata": {},
          "execution_count": 6
        }
      ]
    },
    {
      "cell_type": "code",
      "source": [
        "# Display all records\n",
        "list(cur.execute(\"SELECT * FROM employee\"))"
      ],
      "metadata": {
        "colab": {
          "base_uri": "https://localhost:8080/"
        },
        "id": "zU8xw7DJ9lYq",
        "outputId": "ea402aa6-a824-4578-8022-13bfac511569"
      },
      "execution_count": null,
      "outputs": [
        {
          "output_type": "execute_result",
          "data": {
            "text/plain": [
              "[('emp-01', 'Amit', 'Pune')]"
            ]
          },
          "metadata": {},
          "execution_count": 7
        }
      ]
    },
    {
      "cell_type": "code",
      "source": [
        "# Insert second record in employee table\n",
        "cur.execute(\"INSERT INTO employee VALUES ('emp-02','Rohan','Mumbai' )\")"
      ],
      "metadata": {
        "colab": {
          "base_uri": "https://localhost:8080/"
        },
        "id": "DE8Xo4dZ9suO",
        "outputId": "ea14b8e4-69f6-4b8d-847a-8798a04ba6ab"
      },
      "execution_count": null,
      "outputs": [
        {
          "output_type": "execute_result",
          "data": {
            "text/plain": [
              "<sqlite3.Cursor at 0x7fd6f6edac40>"
            ]
          },
          "metadata": {},
          "execution_count": 8
        }
      ]
    },
    {
      "cell_type": "code",
      "source": [
        "# Display all records\n",
        "list(cur.execute(\"SELECT * FROM employee\"))"
      ],
      "metadata": {
        "colab": {
          "base_uri": "https://localhost:8080/"
        },
        "id": "WmNPRyC09wzs",
        "outputId": "8f3315dd-e770-4340-d00e-b5cedf0766e9"
      },
      "execution_count": null,
      "outputs": [
        {
          "output_type": "execute_result",
          "data": {
            "text/plain": [
              "[('emp-01', 'Amit', 'Pune'), ('emp-02', 'Rohan', 'Mumbai')]"
            ]
          },
          "metadata": {},
          "execution_count": 9
        }
      ]
    },
    {
      "cell_type": "code",
      "source": [
        "#  Update Rohan's location\n",
        "cur.execute(\"UPDATE employee SET city='Pune' WHERE eid='emp-02' \")"
      ],
      "metadata": {
        "colab": {
          "base_uri": "https://localhost:8080/"
        },
        "id": "t1Bjo9D89ylM",
        "outputId": "57fb1fb8-1726-41f8-cc0c-18c29559b890"
      },
      "execution_count": null,
      "outputs": [
        {
          "output_type": "execute_result",
          "data": {
            "text/plain": [
              "<sqlite3.Cursor at 0x7fd6f6edac40>"
            ]
          },
          "metadata": {},
          "execution_count": 10
        }
      ]
    },
    {
      "cell_type": "code",
      "source": [
        "# Display specific record\n",
        "list(cur.execute(\"SELECT * FROM employee WHERE eid='emp-02' \"))"
      ],
      "metadata": {
        "colab": {
          "base_uri": "https://localhost:8080/"
        },
        "id": "sRwnbw1x_82a",
        "outputId": "64d3711a-c9e4-4ce4-9b1c-3d4577679690"
      },
      "execution_count": null,
      "outputs": [
        {
          "output_type": "execute_result",
          "data": {
            "text/plain": [
              "[('emp-02', 'Rohan', 'Pune')]"
            ]
          },
          "metadata": {},
          "execution_count": 12
        }
      ]
    },
    {
      "cell_type": "code",
      "source": [
        "cur.execute(\"DELETE FROM employee WHERE eid='emp-02' \")"
      ],
      "metadata": {
        "colab": {
          "base_uri": "https://localhost:8080/"
        },
        "id": "YL54XKELABSI",
        "outputId": "a4ed25a3-261f-4310-889a-d16ce04f6543"
      },
      "execution_count": null,
      "outputs": [
        {
          "output_type": "execute_result",
          "data": {
            "text/plain": [
              "<sqlite3.Cursor at 0x7fd6f6edac40>"
            ]
          },
          "metadata": {},
          "execution_count": 13
        }
      ]
    },
    {
      "cell_type": "code",
      "source": [
        "# Display specific record\n",
        "list(cur.execute(\"SELECT * FROM employee WHERE eid='emp-02' \"))"
      ],
      "metadata": {
        "colab": {
          "base_uri": "https://localhost:8080/"
        },
        "id": "SJybbr3zARro",
        "outputId": "e4674b0a-906c-4478-af57-b395bb94b96c"
      },
      "execution_count": null,
      "outputs": [
        {
          "output_type": "execute_result",
          "data": {
            "text/plain": [
              "[]"
            ]
          },
          "metadata": {},
          "execution_count": 14
        }
      ]
    },
    {
      "cell_type": "code",
      "source": [
        "list(cur.execute(\"SELECT * FROM employee\"))"
      ],
      "metadata": {
        "colab": {
          "base_uri": "https://localhost:8080/"
        },
        "id": "Te1LLOILAR9s",
        "outputId": "fe28af48-1c97-4261-ba79-64c370426496"
      },
      "execution_count": null,
      "outputs": [
        {
          "output_type": "execute_result",
          "data": {
            "text/plain": [
              "[('emp-01', 'Amit', 'Pune')]"
            ]
          },
          "metadata": {},
          "execution_count": 16
        }
      ]
    },
    {
      "cell_type": "markdown",
      "source": [
        "Assignment-01 : https://docs.google.com/document/d/1zqXUUqsHyi-qlb98LLkwWx30y3llmVt9zgt9YEATao8/edit?usp=sharing"
      ],
      "metadata": {
        "id": "_yz4sdXGBczw"
      }
    },
    {
      "cell_type": "markdown",
      "source": [
        "12-Juy-23"
      ],
      "metadata": {
        "id": "P-tVg5mKG2xg"
      }
    },
    {
      "cell_type": "code",
      "source": [
        "#  import database library and create required table\n",
        "import sqlite3\n",
        "# import flask library\n",
        "from flask import Flask\n",
        "\n",
        "# create object for Flask\n",
        "app = Flask(__name__)\n",
        "\n",
        "@app.route('/show')\n",
        "def showall():\n",
        "    connection = sqlite3.connect('test1.db')\n",
        "    cur = connection.cursor()\n",
        "    cur.execute(\"CREATE TABLE IF NOT EXISTS employee (eid TEXT , name TEXT , city TEXT)\")\n",
        "    cur.execute(\"INSERT INTO employee VALUES ('emp-01','Amit','Pune' )\")\n",
        "    connection.commit()\n",
        "    emp = list(cur.execute(\"select * from employee\"))\n",
        "    return {'Records':emp}\n",
        "\n",
        "app.run(port=5000)"
      ],
      "metadata": {
        "colab": {
          "base_uri": "https://localhost:8080/"
        },
        "id": "wGp8_K-yCGrG",
        "outputId": "d4a110b9-71c3-4a12-c825-850f3017f4bb"
      },
      "execution_count": null,
      "outputs": [
        {
          "output_type": "stream",
          "name": "stdout",
          "text": [
            " * Serving Flask app '__main__'\n",
            " * Debug mode: off\n"
          ]
        },
        {
          "output_type": "stream",
          "name": "stderr",
          "text": [
            "INFO:werkzeug:\u001b[31m\u001b[1mWARNING: This is a development server. Do not use it in a production deployment. Use a production WSGI server instead.\u001b[0m\n",
            " * Running on http://127.0.0.1:5000\n",
            "INFO:werkzeug:\u001b[33mPress CTRL+C to quit\u001b[0m\n"
          ]
        }
      ]
    },
    {
      "cell_type": "markdown",
      "source": [
        "13 July-23"
      ],
      "metadata": {
        "id": "Ea_UFX-jJY6g"
      }
    },
    {
      "cell_type": "code",
      "source": [
        "#  import database library and create required table\n",
        "import sqlite3\n",
        "# import flask library\n",
        "from flask import Flask,request\n",
        "\n",
        "# create object for Flask\n",
        "app = Flask(__name__)\n",
        "\n",
        "@app.route('/register', methods = ['POST'])\n",
        "def register():\n",
        "    emp_data = request.get_json()\n",
        "    connection = sqlite3.connect('test5.db')\n",
        "    cur = connection.cursor()\n",
        "    cur.execute(\"CREATE TABLE IF NOT EXISTS employee (eid TEXT , name TEXT , city TEXT)\")\n",
        "    cur.execute(\"INSERT INTO employee VALUES ('{}','{}','{}' )\".format(emp_data['eid'],emp_data['name'],emp_data['city']))\n",
        "    connection.commit()\n",
        "    return {'INFO':'Record registered in database'}\n",
        "\n",
        "@app.route('/show')\n",
        "def showall():\n",
        "    connection = sqlite3.connect('test5.db')\n",
        "    cur = connection.cursor()\n",
        "    emp = list(cur.execute(\"select * from employee\"))\n",
        "    return {'Records':emp}\n",
        "\n",
        "app.run(port=5000)"
      ],
      "metadata": {
        "id": "iCCMvavaOHuO",
        "colab": {
          "base_uri": "https://localhost:8080/"
        },
        "outputId": "99502e45-1f45-4622-f9d1-b02753abb40e"
      },
      "execution_count": null,
      "outputs": [
        {
          "output_type": "stream",
          "name": "stdout",
          "text": [
            " * Serving Flask app '__main__'\n",
            " * Debug mode: off\n"
          ]
        },
        {
          "output_type": "stream",
          "name": "stderr",
          "text": [
            "INFO:werkzeug:\u001b[31m\u001b[1mWARNING: This is a development server. Do not use it in a production deployment. Use a production WSGI server instead.\u001b[0m\n",
            " * Running on http://127.0.0.1:5000\n",
            "INFO:werkzeug:\u001b[33mPress CTRL+C to quit\u001b[0m\n"
          ]
        }
      ]
    },
    {
      "cell_type": "markdown",
      "source": [
        "{\"eid\":\"103\",\"name\":\"Sumit\",\"city\":\"Mumbai\"}"
      ],
      "metadata": {
        "id": "DoY7gz7vSDe1"
      }
    },
    {
      "cell_type": "code",
      "source": [
        "print(\"INSERT INTO employee VALUES ('{}','{}','{}' )\".format('1','Amit','Pune'))"
      ],
      "metadata": {
        "colab": {
          "base_uri": "https://localhost:8080/"
        },
        "id": "sBeWDS12Mj9N",
        "outputId": "f5bd6747-b2ea-4952-da72-2bd5cd7e6756"
      },
      "execution_count": null,
      "outputs": [
        {
          "output_type": "stream",
          "name": "stdout",
          "text": [
            "INSERT INTO employee VALUES ('1','Amit','Pune' )\n"
          ]
        }
      ]
    },
    {
      "cell_type": "code",
      "source": [
        "print(\"INSERT INTO employee VALUES ('{}','{}','{}' )\".format('2','Allen','Mumbai'))"
      ],
      "metadata": {
        "colab": {
          "base_uri": "https://localhost:8080/"
        },
        "id": "AcV0X6N4MqXY",
        "outputId": "c5c0f7a8-23e6-4042-a5cd-aefaa1e25bf7"
      },
      "execution_count": null,
      "outputs": [
        {
          "output_type": "stream",
          "name": "stdout",
          "text": [
            "INSERT INTO employee VALUES ('2','Allen','Mumbai' )\n"
          ]
        }
      ]
    },
    {
      "cell_type": "code",
      "source": [
        "emp_data = {'eid':'101','name':'Smith','city':'Pune'}\n",
        "print(\"INSERT INTO employee VALUES ('{}','{}','{}' )\".format(emp_data['eid'],emp_data['name'],emp_data['city']))\n"
      ],
      "metadata": {
        "colab": {
          "base_uri": "https://localhost:8080/"
        },
        "id": "z3I3CcucNbMT",
        "outputId": "a53f27eb-59fe-4390-e906-673c8ebba3ce"
      },
      "execution_count": null,
      "outputs": [
        {
          "output_type": "stream",
          "name": "stdout",
          "text": [
            "INSERT INTO employee VALUES ('101','Smith','Pune' )\n"
          ]
        }
      ]
    },
    {
      "cell_type": "markdown",
      "source": [
        "CRUD operations - Create , Read(Select) , Update , Delete"
      ],
      "metadata": {
        "id": "MokhR0NWWELc"
      }
    },
    {
      "cell_type": "code",
      "source": [
        "#  import database library and create required table\n",
        "import sqlite3\n",
        "# import flask library\n",
        "from flask import Flask,request\n",
        "\n",
        "# create object for Flask\n",
        "app = Flask(__name__)\n",
        "\n",
        "@app.route('/register', methods = ['POST'])\n",
        "def register():\n",
        "    emp_data = request.get_json()\n",
        "    connection = sqlite3.connect('test5.db')\n",
        "    cur = connection.cursor()\n",
        "    cur.execute(\"CREATE TABLE IF NOT EXISTS employee (eid TEXT , name TEXT , city TEXT)\")\n",
        "    cur.execute(\"INSERT INTO employee VALUES ('{}','{}','{}' )\".format(emp_data['eid'],emp_data['name'],emp_data['city']))\n",
        "    connection.commit()\n",
        "    return {'INFO':'Record registered in database'}\n",
        "\n",
        "@app.route('/update', methods = ['POST'])\n",
        "def update():\n",
        "    emp_data = request.get_json()\n",
        "    connection = sqlite3.connect('test5.db')\n",
        "    cur = connection.cursor()\n",
        "    cur.execute(\"UPDATE employee SET city = '{}' where eid = '{}'\".format(emp_data['city'],emp_data['eid']))\n",
        "    connection.commit()\n",
        "    return {'INFO':'Record updated in database'}\n",
        "\n",
        "@app.route('/delete', methods = ['POST'])\n",
        "def delete():\n",
        "    emp_data = request.get_json()\n",
        "    connection = sqlite3.connect('test5.db')\n",
        "    cur = connection.cursor()\n",
        "    cur.execute(\"DELETE FROM employee where eid = '{}'\".format(emp_data['eid']))\n",
        "    connection.commit()\n",
        "    return {'INFO':'Record deleted from database'}\n",
        "\n",
        "@app.route('/show')\n",
        "def showall():\n",
        "    connection = sqlite3.connect('test5.db')\n",
        "    cur = connection.cursor()\n",
        "    emp = list(cur.execute(\"select * from employee\"))\n",
        "    return {'Records':emp}\n",
        "\n",
        "app.run(port=5000)"
      ],
      "metadata": {
        "id": "N0kecNV9O214"
      },
      "execution_count": null,
      "outputs": []
    },
    {
      "cell_type": "markdown",
      "source": [
        "How to update multiple values : UPDATE TABLENAME SET col1= value1 , col2 = value2 where condition"
      ],
      "metadata": {
        "id": "Zq5WLoINWpq1"
      }
    },
    {
      "cell_type": "markdown",
      "source": [
        "14 July 2023"
      ],
      "metadata": {
        "id": "k6dFDb_wYx35"
      }
    },
    {
      "cell_type": "markdown",
      "source": [
        "Assignment - 02 : https://docs.google.com/document/d/1vXGJnZbl8SJctsbuiEAIcPSBQNuFVs3WAoIAlUH78Xg/edit?usp=sharing"
      ],
      "metadata": {
        "id": "6S85Ko8ZcIu2"
      }
    },
    {
      "cell_type": "markdown",
      "source": [
        "Assignment - 03 : https://docs.google.com/document/d/1OTXqBKbp5eIpBRfNFMVacyUV-CWSi6xH_N3HZ79pjic/edit?usp=sharing"
      ],
      "metadata": {
        "id": "r6xUIiDEcKtC"
      }
    },
    {
      "cell_type": "markdown",
      "source": [
        "Assignment - 04 : https://docs.google.com/document/d/1f-Xj9NYNIn9cXsWOirDICQNixrqO973tJrOwchGCFoU/edit?usp=sharing"
      ],
      "metadata": {
        "id": "MXQWiKkAfjWu"
      }
    },
    {
      "cell_type": "markdown",
      "source": [
        "Class Notes : 17-July-2023  , https://colab.research.google.com/drive/1SDB6v_hCuVyMQtV4dSEwCSsbyjbmOUz0?usp=sharing"
      ],
      "metadata": {
        "id": "uC-YG5MEu2Fo"
      }
    },
    {
      "cell_type": "code",
      "source": [],
      "metadata": {
        "id": "mYI6p1L9fiGI"
      },
      "execution_count": null,
      "outputs": []
    },
    {
      "cell_type": "code",
      "source": [],
      "metadata": {
        "id": "MggOf2qocO6x"
      },
      "execution_count": null,
      "outputs": []
    }
  ]
}