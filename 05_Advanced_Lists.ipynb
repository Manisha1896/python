{
  "cells": [
    {
      "cell_type": "markdown",
      "metadata": {
        "id": "view-in-github",
        "colab_type": "text"
      },
      "source": [
        "<a href=\"https://colab.research.google.com/github/Manisha1896/python/blob/main/05_Advanced_Lists.ipynb\" target=\"_parent\"><img src=\"https://colab.research.google.com/assets/colab-badge.svg\" alt=\"Open In Colab\"/></a>"
      ]
    },
    {
      "cell_type": "markdown",
      "metadata": {
        "id": "KCeRJWNZMxJW"
      },
      "source": [
        "# Advanced Lists\n",
        "\n",
        "In this series of lectures we will be diving a little deeper into all the methods available in a list object. These aren't officially \"advanced\" features, just methods that you wouldn't typically encounter without some additional exploring. It's pretty likely that you've already encountered some of these yourself!\n",
        "\n",
        "Let's begin!"
      ]
    },
    {
      "cell_type": "code",
      "execution_count": null,
      "metadata": {
        "id": "J0Ouu5rvMxJb"
      },
      "outputs": [],
      "source": [
        "list1 = [1,2,3]"
      ]
    },
    {
      "cell_type": "markdown",
      "metadata": {
        "id": "d5f9VV8AMxJe"
      },
      "source": [
        "## append\n",
        "You will definitely have used this method by now, which merely appends an element to the end of a list:"
      ]
    },
    {
      "cell_type": "code",
      "execution_count": null,
      "metadata": {
        "colab": {
          "base_uri": "https://localhost:8080/"
        },
        "id": "UD64fxw7MxJe",
        "outputId": "4d6ddb25-a9e5-46b4-f084-05e098eddfea"
      },
      "outputs": [
        {
          "output_type": "execute_result",
          "data": {
            "text/plain": [
              "[1, 2, 3, 4]"
            ]
          },
          "metadata": {},
          "execution_count": 2
        }
      ],
      "source": [
        "list1.append(4)\n",
        "\n",
        "list1"
      ]
    },
    {
      "cell_type": "code",
      "execution_count": null,
      "metadata": {
        "id": "Qpmvf-AlMxJh",
        "outputId": "c5dcdd2c-9e11-4e22-9194-80050e4c4882"
      },
      "outputs": [
        {
          "data": {
            "text/plain": [
              "4"
            ]
          },
          "execution_count": 3,
          "metadata": {},
          "output_type": "execute_result"
        }
      ],
      "source": [
        "len(list1)"
      ]
    },
    {
      "cell_type": "markdown",
      "metadata": {
        "id": "T1T_sJApMxJi"
      },
      "source": [
        "## count\n",
        "We discussed this during the methods lectures, but here it is again. <code>count()</code> takes in an element and returns the number of times it occurs in your list:"
      ]
    },
    {
      "cell_type": "code",
      "source": [
        "list1"
      ],
      "metadata": {
        "colab": {
          "base_uri": "https://localhost:8080/"
        },
        "id": "Dj_N5DipNZ36",
        "outputId": "a62d639c-b35d-4f22-c25a-05aec6604ff3"
      },
      "execution_count": null,
      "outputs": [
        {
          "output_type": "execute_result",
          "data": {
            "text/plain": [
              "[1, 2, 3, 4]"
            ]
          },
          "metadata": {},
          "execution_count": 3
        }
      ]
    },
    {
      "cell_type": "code",
      "execution_count": null,
      "metadata": {
        "colab": {
          "base_uri": "https://localhost:8080/"
        },
        "id": "vC9JsaIJMxJi",
        "outputId": "87d5bbc4-3912-45c2-f567-412c8cbf7a12"
      },
      "outputs": [
        {
          "output_type": "execute_result",
          "data": {
            "text/plain": [
              "0"
            ]
          },
          "metadata": {},
          "execution_count": 5
        }
      ],
      "source": [
        "list1.count(10)"
      ]
    },
    {
      "cell_type": "code",
      "execution_count": null,
      "metadata": {
        "id": "v7cgr8mpMxJj",
        "outputId": "429810e0-28e6-4660-c7de-2c0574d15e38"
      },
      "outputs": [
        {
          "data": {
            "text/plain": [
              "1"
            ]
          },
          "execution_count": 5,
          "metadata": {},
          "output_type": "execute_result"
        }
      ],
      "source": [
        "list1.count(2)"
      ]
    },
    {
      "cell_type": "markdown",
      "metadata": {
        "id": "qAqjAwU5MxJj"
      },
      "source": [
        "## extend\n",
        "Many times people find the difference between extend and append to be unclear. So note:\n",
        "\n",
        "**append: appends whole object at end:**"
      ]
    },
    {
      "cell_type": "code",
      "execution_count": null,
      "metadata": {
        "colab": {
          "base_uri": "https://localhost:8080/"
        },
        "id": "2Yz7zi1fMxJk",
        "outputId": "12dd12c0-9b10-46c8-d97f-b37dde2c3acc"
      },
      "outputs": [
        {
          "output_type": "stream",
          "name": "stdout",
          "text": [
            "[1, 2, 3, [4, 5]]\n"
          ]
        }
      ],
      "source": [
        "x = [1, 2, 3]\n",
        "x.append([4, 5])\n",
        "print(x)"
      ]
    },
    {
      "cell_type": "markdown",
      "metadata": {
        "id": "2GAjP66XMxJl"
      },
      "source": [
        "**extend: extends list by appending elements from the iterable:**"
      ]
    },
    {
      "cell_type": "code",
      "execution_count": null,
      "metadata": {
        "colab": {
          "base_uri": "https://localhost:8080/"
        },
        "id": "3Fd4Q-_pMxJp",
        "outputId": "34e88701-8b0d-4a64-d17d-70d7dcff6ab9"
      },
      "outputs": [
        {
          "output_type": "stream",
          "name": "stdout",
          "text": [
            "[1, 2, 3, 4, 5]\n"
          ]
        }
      ],
      "source": [
        "x = [1, 2, 3]\n",
        "x.extend([4, 5])\n",
        "print(x)"
      ]
    },
    {
      "cell_type": "markdown",
      "metadata": {
        "id": "gBzWL_pLMxJq"
      },
      "source": [
        "Note how <code>extend()</code> appends each element from the passed-in list. That is the key difference."
      ]
    },
    {
      "cell_type": "markdown",
      "metadata": {
        "id": "UAbHgjpjMxJr"
      },
      "source": [
        "## index\n",
        "<code>index()</code> will return the index of whatever element is placed as an argument. Note: If the the element is not in the list an error is raised."
      ]
    },
    {
      "cell_type": "code",
      "execution_count": null,
      "metadata": {
        "id": "6vZ8NGyvMxJr"
      },
      "outputs": [],
      "source": [
        "list1  = [1, 2, 3, 4,1]"
      ]
    },
    {
      "cell_type": "code",
      "execution_count": null,
      "metadata": {
        "colab": {
          "base_uri": "https://localhost:8080/"
        },
        "id": "FIN6j8onMxJs",
        "outputId": "fa05e944-97d9-4df6-b095-f9ae0919cc52"
      },
      "outputs": [
        {
          "output_type": "execute_result",
          "data": {
            "text/plain": [
              "0"
            ]
          },
          "metadata": {},
          "execution_count": 12
        }
      ],
      "source": [
        "list1.index(1)"
      ]
    },
    {
      "cell_type": "code",
      "execution_count": null,
      "metadata": {
        "colab": {
          "base_uri": "https://localhost:8080/",
          "height": 169
        },
        "id": "Fa2JS9VXMxJt",
        "outputId": "013c30f8-0823-460d-b086-983c24b49263"
      },
      "outputs": [
        {
          "output_type": "error",
          "ename": "ValueError",
          "evalue": "ignored",
          "traceback": [
            "\u001b[0;31m---------------------------------------------------------------------------\u001b[0m",
            "\u001b[0;31mValueError\u001b[0m                                Traceback (most recent call last)",
            "\u001b[0;32m<ipython-input-10-56b94ada72bf>\u001b[0m in \u001b[0;36m<cell line: 1>\u001b[0;34m()\u001b[0m\n\u001b[0;32m----> 1\u001b[0;31m \u001b[0mlist1\u001b[0m\u001b[0;34m.\u001b[0m\u001b[0mindex\u001b[0m\u001b[0;34m(\u001b[0m\u001b[0;36m12\u001b[0m\u001b[0;34m)\u001b[0m\u001b[0;34m\u001b[0m\u001b[0;34m\u001b[0m\u001b[0m\n\u001b[0m",
            "\u001b[0;31mValueError\u001b[0m: 12 is not in list"
          ]
        }
      ],
      "source": [
        "list1.index(12)"
      ]
    },
    {
      "cell_type": "markdown",
      "metadata": {
        "id": "NOWgenFsMxJt"
      },
      "source": [
        "## insert\n",
        "<code>insert()</code> takes in two arguments: <code>insert(index,object)</code> This method places the object at the index supplied. For example:"
      ]
    },
    {
      "cell_type": "code",
      "execution_count": null,
      "metadata": {
        "colab": {
          "base_uri": "https://localhost:8080/"
        },
        "id": "nE84AFiRMxJw",
        "outputId": "d38ac5ba-af4d-4d7f-ea7b-c43f088b2a39"
      },
      "outputs": [
        {
          "output_type": "execute_result",
          "data": {
            "text/plain": [
              "[1, 2, 3, 4, 1]"
            ]
          },
          "metadata": {},
          "execution_count": 13
        }
      ],
      "source": [
        "list1"
      ]
    },
    {
      "cell_type": "code",
      "execution_count": null,
      "metadata": {
        "id": "4P1FFux1MxJx"
      },
      "outputs": [],
      "source": [
        "# Place a letter at the index 2\n",
        "list1.insert(2,'inserted')"
      ]
    },
    {
      "cell_type": "code",
      "execution_count": null,
      "metadata": {
        "colab": {
          "base_uri": "https://localhost:8080/"
        },
        "id": "zwE2qx3cMxJx",
        "outputId": "78023951-9540-4d47-d829-41cf3c48bb5c"
      },
      "outputs": [
        {
          "output_type": "execute_result",
          "data": {
            "text/plain": [
              "[1, 2, 'inserted', 3, 4, 1]"
            ]
          },
          "metadata": {},
          "execution_count": 15
        }
      ],
      "source": [
        "list1"
      ]
    },
    {
      "cell_type": "markdown",
      "metadata": {
        "id": "UPWyI9jbMxJy"
      },
      "source": [
        "## pop\n",
        "You most likely have already seen <code>pop()</code>, which allows us to \"pop\" off the last element of a list. However, by passing an index position you can remove and return a specific element."
      ]
    },
    {
      "cell_type": "code",
      "execution_count": null,
      "metadata": {
        "id": "OSqIswYyMxJ0"
      },
      "outputs": [],
      "source": [
        "ele = list1.pop(2)"
      ]
    },
    {
      "cell_type": "code",
      "execution_count": null,
      "metadata": {
        "colab": {
          "base_uri": "https://localhost:8080/"
        },
        "id": "Gf2O0fTcMxJ1",
        "outputId": "8e1fbe9f-ff91-4642-97eb-d2a0a8794f45"
      },
      "outputs": [
        {
          "output_type": "execute_result",
          "data": {
            "text/plain": [
              "[1, 2, 3, 4]"
            ]
          },
          "metadata": {},
          "execution_count": 20
        }
      ],
      "source": [
        "list1"
      ]
    },
    {
      "cell_type": "code",
      "execution_count": null,
      "metadata": {
        "colab": {
          "base_uri": "https://localhost:8080/",
          "height": 36
        },
        "id": "6L0sVS6hMxJ1",
        "outputId": "6d22c034-44ec-4e47-8245-b153637d4727"
      },
      "outputs": [
        {
          "output_type": "execute_result",
          "data": {
            "text/plain": [
              "'inserted'"
            ],
            "application/vnd.google.colaboratory.intrinsic+json": {
              "type": "string"
            }
          },
          "metadata": {},
          "execution_count": 21
        }
      ],
      "source": [
        "ele"
      ]
    },
    {
      "cell_type": "markdown",
      "metadata": {
        "id": "55KNW-efMxJ2"
      },
      "source": [
        "## remove\n",
        "The <code>remove()</code> method removes the first occurrence of a value. For example:"
      ]
    },
    {
      "cell_type": "code",
      "execution_count": null,
      "metadata": {
        "colab": {
          "base_uri": "https://localhost:8080/"
        },
        "id": "hOReNbukMxJ2",
        "outputId": "b863fd96-d1e6-43ca-8e00-5419d150dbec"
      },
      "outputs": [
        {
          "output_type": "execute_result",
          "data": {
            "text/plain": [
              "[1, 3, 4]"
            ]
          },
          "metadata": {},
          "execution_count": 27
        }
      ],
      "source": [
        "list1"
      ]
    },
    {
      "cell_type": "code",
      "execution_count": null,
      "metadata": {
        "id": "jlGEdBJkMxJ3"
      },
      "outputs": [],
      "source": [
        "list1.remove(2)"
      ]
    },
    {
      "cell_type": "code",
      "execution_count": null,
      "metadata": {
        "colab": {
          "base_uri": "https://localhost:8080/"
        },
        "id": "-p0EWlgfMxJ3",
        "outputId": "dc4d319f-ffda-469a-b29c-b55cfce32ad2"
      },
      "outputs": [
        {
          "output_type": "execute_result",
          "data": {
            "text/plain": [
              "[1, 3, 4]"
            ]
          },
          "metadata": {},
          "execution_count": 24
        }
      ],
      "source": [
        "list1"
      ]
    },
    {
      "cell_type": "code",
      "execution_count": null,
      "metadata": {
        "id": "1f_KjcjkMxJ3"
      },
      "outputs": [],
      "source": [
        "list2 = [1,2,3,4,3]"
      ]
    },
    {
      "cell_type": "code",
      "execution_count": null,
      "metadata": {
        "id": "ULUwulZUMxJ4"
      },
      "outputs": [],
      "source": [
        "list2.remove(3)"
      ]
    },
    {
      "cell_type": "code",
      "execution_count": null,
      "metadata": {
        "colab": {
          "base_uri": "https://localhost:8080/"
        },
        "id": "xeQ1ckl-MxJ4",
        "outputId": "fd9b9d71-a33b-4e69-d123-9a49a483a8dc"
      },
      "outputs": [
        {
          "output_type": "execute_result",
          "data": {
            "text/plain": [
              "[1, 2, 4, 3]"
            ]
          },
          "metadata": {},
          "execution_count": 30
        }
      ],
      "source": [
        "list2"
      ]
    },
    {
      "cell_type": "markdown",
      "metadata": {
        "id": "j7MH3ZpeMxJ5"
      },
      "source": [
        "## reverse\n",
        "As you might have guessed, <code>reverse()</code> reverses a list. Note this occurs in place! Meaning it affects your list permanently."
      ]
    },
    {
      "cell_type": "code",
      "source": [
        "list2"
      ],
      "metadata": {
        "colab": {
          "base_uri": "https://localhost:8080/"
        },
        "id": "N1UXXoZYPmYP",
        "outputId": "010680ff-77b1-45b7-9b74-f1d70ece1ec0"
      },
      "execution_count": null,
      "outputs": [
        {
          "output_type": "execute_result",
          "data": {
            "text/plain": [
              "[1, 2, 4, 3]"
            ]
          },
          "metadata": {},
          "execution_count": 31
        }
      ]
    },
    {
      "cell_type": "code",
      "execution_count": null,
      "metadata": {
        "id": "GvQjn812MxJ6"
      },
      "outputs": [],
      "source": [
        "list2.reverse()"
      ]
    },
    {
      "cell_type": "code",
      "execution_count": null,
      "metadata": {
        "colab": {
          "base_uri": "https://localhost:8080/"
        },
        "id": "-Bac7DX4MxJ7",
        "outputId": "c2428258-ba57-4567-8b5d-388b9d8bd432"
      },
      "outputs": [
        {
          "output_type": "execute_result",
          "data": {
            "text/plain": [
              "[3, 4, 2, 1]"
            ]
          },
          "metadata": {},
          "execution_count": 33
        }
      ],
      "source": [
        "list2"
      ]
    },
    {
      "cell_type": "markdown",
      "metadata": {
        "id": "fzfdgDUwMxJ8"
      },
      "source": [
        "## sort\n",
        "The <code>sort()</code> method will sort your list in place:"
      ]
    },
    {
      "cell_type": "code",
      "execution_count": null,
      "metadata": {
        "colab": {
          "base_uri": "https://localhost:8080/"
        },
        "id": "da4eAbknMxJ9",
        "outputId": "29371f8d-b511-407e-a019-cbcc1a54b954"
      },
      "outputs": [
        {
          "output_type": "execute_result",
          "data": {
            "text/plain": [
              "[3, 4, 2, 1]"
            ]
          },
          "metadata": {},
          "execution_count": 34
        }
      ],
      "source": [
        "list2"
      ]
    },
    {
      "cell_type": "code",
      "execution_count": null,
      "metadata": {
        "id": "p3JDtdVTMxJ-"
      },
      "outputs": [],
      "source": [
        "list2.sort()"
      ]
    },
    {
      "cell_type": "code",
      "execution_count": null,
      "metadata": {
        "colab": {
          "base_uri": "https://localhost:8080/"
        },
        "id": "vqTw3bkuMxJ_",
        "outputId": "2661a524-2383-4c3c-a276-6fec789ac32f"
      },
      "outputs": [
        {
          "output_type": "execute_result",
          "data": {
            "text/plain": [
              "[1, 2, 3, 4]"
            ]
          },
          "metadata": {},
          "execution_count": 36
        }
      ],
      "source": [
        "list2"
      ]
    },
    {
      "cell_type": "markdown",
      "metadata": {
        "id": "LqZQWdDmMxKQ"
      },
      "source": [
        "The <code>sort()</code> method takes an optional argument for reverse sorting. Note this is different than simply reversing the order of items."
      ]
    },
    {
      "cell_type": "code",
      "execution_count": null,
      "metadata": {
        "id": "HFoj2QjwMxKR"
      },
      "outputs": [],
      "source": [
        "list2.sort(reverse=True)"
      ]
    },
    {
      "cell_type": "code",
      "execution_count": null,
      "metadata": {
        "colab": {
          "base_uri": "https://localhost:8080/"
        },
        "id": "dFo2DNMTMxKR",
        "outputId": "490c337c-cd5a-41fe-a652-68416d60ebe1"
      },
      "outputs": [
        {
          "output_type": "execute_result",
          "data": {
            "text/plain": [
              "[4, 3, 2, 1]"
            ]
          },
          "metadata": {},
          "execution_count": 38
        }
      ],
      "source": [
        "list2"
      ]
    },
    {
      "cell_type": "markdown",
      "metadata": {
        "id": "QjRpx-bfMxKT"
      },
      "source": [
        "## Be Careful With Assignment!\n",
        "A common programming mistake is to assume you can assign a modified list to a new variable. While this typically works with immutable objects like strings and tuples:"
      ]
    },
    {
      "cell_type": "code",
      "execution_count": null,
      "metadata": {
        "id": "2lk88MRGMxKU"
      },
      "outputs": [],
      "source": [
        "x = 'hello world'"
      ]
    },
    {
      "cell_type": "code",
      "execution_count": null,
      "metadata": {
        "id": "1A677yskMxKU"
      },
      "outputs": [],
      "source": [
        "y = x.upper()"
      ]
    },
    {
      "cell_type": "code",
      "execution_count": null,
      "metadata": {
        "colab": {
          "base_uri": "https://localhost:8080/"
        },
        "id": "SSF_Xtu1MxKV",
        "outputId": "f3874ace-55ac-48e4-e67b-240012b52e1a"
      },
      "outputs": [
        {
          "output_type": "stream",
          "name": "stdout",
          "text": [
            "HELLO WORLD\n"
          ]
        }
      ],
      "source": [
        "print(y)"
      ]
    },
    {
      "cell_type": "code",
      "execution_count": null,
      "metadata": {
        "colab": {
          "base_uri": "https://localhost:8080/",
          "height": 36
        },
        "id": "TTjKf6Z2MxKV",
        "outputId": "6b256474-8f8f-4268-c2cc-6a6a08251a52"
      },
      "outputs": [
        {
          "output_type": "execute_result",
          "data": {
            "text/plain": [
              "'hello world'"
            ],
            "application/vnd.google.colaboratory.intrinsic+json": {
              "type": "string"
            }
          },
          "metadata": {},
          "execution_count": 43
        }
      ],
      "source": [
        "x"
      ]
    },
    {
      "cell_type": "markdown",
      "metadata": {
        "id": "ffsp7CIcMxKV"
      },
      "source": [
        "This will NOT work the same way with lists:"
      ]
    },
    {
      "cell_type": "code",
      "execution_count": null,
      "metadata": {
        "id": "_tJAoLr8MxKW"
      },
      "outputs": [],
      "source": [
        "x = [1,2,3]"
      ]
    },
    {
      "cell_type": "code",
      "execution_count": null,
      "metadata": {
        "id": "SNu_woJ-MxKX"
      },
      "outputs": [],
      "source": [
        "y = x.append(4)"
      ]
    },
    {
      "cell_type": "code",
      "execution_count": null,
      "metadata": {
        "colab": {
          "base_uri": "https://localhost:8080/"
        },
        "id": "3q-69UERMxKo",
        "outputId": "95b05696-22eb-4c5a-891f-34fa32531160"
      },
      "outputs": [
        {
          "output_type": "stream",
          "name": "stdout",
          "text": [
            "None\n"
          ]
        }
      ],
      "source": [
        "print(y)"
      ]
    },
    {
      "cell_type": "code",
      "execution_count": null,
      "metadata": {
        "colab": {
          "base_uri": "https://localhost:8080/"
        },
        "id": "NF4cL3fkMxKp",
        "outputId": "23c22221-2308-42a8-fd64-467ae37ca300"
      },
      "outputs": [
        {
          "output_type": "execute_result",
          "data": {
            "text/plain": [
              "[1, 2, 3, 4]"
            ]
          },
          "metadata": {},
          "execution_count": 47
        }
      ],
      "source": [
        "x"
      ]
    },
    {
      "cell_type": "markdown",
      "metadata": {
        "id": "14hRSs0tMxKq"
      },
      "source": [
        "What happened? In this case, since list methods like <code>append()</code> affect the list *in-place*, the operation returns a None value. This is what was passed to **y**. In order to retain **x** you would have to assign a *copy* of **x** to **y**, and then modify **y**:"
      ]
    },
    {
      "cell_type": "code",
      "execution_count": null,
      "metadata": {
        "id": "PmunRNc1MxKs"
      },
      "outputs": [],
      "source": [
        "x = [1,2,3]\n",
        "y = x\n",
        "y.append(4)"
      ]
    },
    {
      "cell_type": "code",
      "execution_count": null,
      "metadata": {
        "colab": {
          "base_uri": "https://localhost:8080/"
        },
        "id": "9EkgkS_fMxKv",
        "outputId": "7c319e71-a5d8-4243-bc8e-cbae40c8c306"
      },
      "outputs": [
        {
          "output_type": "stream",
          "name": "stdout",
          "text": [
            "[1, 2, 3, 4]\n"
          ]
        }
      ],
      "source": [
        "print(x)"
      ]
    },
    {
      "cell_type": "code",
      "execution_count": null,
      "metadata": {
        "colab": {
          "base_uri": "https://localhost:8080/"
        },
        "id": "JW7IgB16MxKw",
        "outputId": "323ed2a4-4326-485a-cc57-88ef29f4067c"
      },
      "outputs": [
        {
          "output_type": "stream",
          "name": "stdout",
          "text": [
            "[1, 2, 3, 4]\n"
          ]
        }
      ],
      "source": [
        "print(y)"
      ]
    },
    {
      "cell_type": "markdown",
      "metadata": {
        "id": "FDHc5sm7MxKx"
      },
      "source": [
        "Great! You should now have an understanding of all the methods available for a list in Python!"
      ]
    }
  ],
  "metadata": {
    "kernelspec": {
      "display_name": "Python 3",
      "language": "python",
      "name": "python3"
    },
    "language_info": {
      "codemirror_mode": {
        "name": "ipython",
        "version": 3
      },
      "file_extension": ".py",
      "mimetype": "text/x-python",
      "name": "python",
      "nbconvert_exporter": "python",
      "pygments_lexer": "ipython3",
      "version": "3.7.3"
    },
    "colab": {
      "provenance": [],
      "include_colab_link": true
    }
  },
  "nbformat": 4,
  "nbformat_minor": 0
}