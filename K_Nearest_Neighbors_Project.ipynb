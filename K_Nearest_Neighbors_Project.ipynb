{
  "cells": [
    {
      "cell_type": "markdown",
      "metadata": {
        "id": "view-in-github",
        "colab_type": "text"
      },
      "source": [
        "<a href=\"https://colab.research.google.com/github/Manisha1896/python/blob/main/K_Nearest_Neighbors_Project.ipynb\" target=\"_parent\"><img src=\"https://colab.research.google.com/assets/colab-badge.svg\" alt=\"Open In Colab\"/></a>"
      ]
    },
    {
      "cell_type": "markdown",
      "metadata": {
        "id": "XYLz11QlapbF"
      },
      "source": [
        "# K Nearest Neighbors Project\n",
        "\n",
        "Welcome to the KNN Project! This will be a simple project very similar to the lecture, except you'll be given another data set. Go ahead and just follow the directions below.\n",
        "## Import Libraries\n",
        "**Import pandas,seaborn, and the usual libraries.**"
      ]
    },
    {
      "cell_type": "code",
      "execution_count": null,
      "metadata": {
        "id": "gFarTvhmapbN"
      },
      "outputs": [],
      "source": []
    },
    {
      "cell_type": "markdown",
      "metadata": {
        "id": "VY_syRhiapbQ"
      },
      "source": [
        "## Get the Data\n",
        "** Read the 'KNN_Project_Data csv file into a dataframe **"
      ]
    },
    {
      "cell_type": "code",
      "execution_count": null,
      "metadata": {
        "id": "ko109nxyapbS"
      },
      "outputs": [],
      "source": []
    },
    {
      "cell_type": "markdown",
      "metadata": {
        "id": "8hRs4BHAapbS"
      },
      "source": [
        "**Check the head of the dataframe.**"
      ]
    },
    {
      "cell_type": "code",
      "execution_count": null,
      "metadata": {
        "id": "N8t6uU6QapbT"
      },
      "outputs": [],
      "source": []
    },
    {
      "cell_type": "markdown",
      "metadata": {
        "id": "gOKs9aFxapbT"
      },
      "source": [
        "# EDA\n",
        "\n",
        "Since this data is artificial, we'll just do a large pairplot with seaborn.\n",
        "\n",
        "**Use seaborn on the dataframe to create a pairplot with the hue indicated by the TARGET CLASS column.**"
      ]
    },
    {
      "cell_type": "code",
      "execution_count": null,
      "metadata": {
        "id": "MktdDR5rapbU"
      },
      "outputs": [],
      "source": []
    },
    {
      "cell_type": "markdown",
      "metadata": {
        "id": "WzB9dwWWapbU"
      },
      "source": [
        "# Standardize the Variables\n",
        "\n",
        "Time to standardize the variables.\n",
        "\n",
        "** Import StandardScaler from Scikit learn.**"
      ]
    },
    {
      "cell_type": "code",
      "execution_count": null,
      "metadata": {
        "id": "oHtTkNj-apbV"
      },
      "outputs": [],
      "source": []
    },
    {
      "cell_type": "markdown",
      "metadata": {
        "id": "hOhaPQCsapbW"
      },
      "source": [
        "** Create a StandardScaler() object called scaler.**"
      ]
    },
    {
      "cell_type": "code",
      "execution_count": null,
      "metadata": {
        "id": "X4qvlnI8apbX"
      },
      "outputs": [],
      "source": []
    },
    {
      "cell_type": "markdown",
      "metadata": {
        "id": "9h4A_KVaapbX"
      },
      "source": [
        "** Fit scaler to the features.**"
      ]
    },
    {
      "cell_type": "code",
      "execution_count": null,
      "metadata": {
        "id": "rYO8pLxsapbY"
      },
      "outputs": [],
      "source": []
    },
    {
      "cell_type": "markdown",
      "metadata": {
        "id": "s4QjbJC-apbY"
      },
      "source": [
        "**Use the .transform() method to transform the features to a scaled version.**"
      ]
    },
    {
      "cell_type": "code",
      "execution_count": null,
      "metadata": {
        "id": "ePriy09dapbZ"
      },
      "outputs": [],
      "source": []
    },
    {
      "cell_type": "markdown",
      "metadata": {
        "id": "59jtMjQxapbZ"
      },
      "source": [
        "**Convert the scaled features to a dataframe and check the head of this dataframe to make sure the scaling worked.**"
      ]
    },
    {
      "cell_type": "code",
      "execution_count": null,
      "metadata": {
        "id": "TJcZGcENapba"
      },
      "outputs": [],
      "source": []
    },
    {
      "cell_type": "markdown",
      "metadata": {
        "id": "vixgS5A8apba"
      },
      "source": [
        "# Train Test Split\n",
        "\n",
        "**Use train_test_split to split your data into a training set and a testing set.**"
      ]
    },
    {
      "cell_type": "code",
      "execution_count": null,
      "metadata": {
        "id": "7078DwmAapbb"
      },
      "outputs": [],
      "source": []
    },
    {
      "cell_type": "code",
      "execution_count": null,
      "metadata": {
        "id": "qhXd3CgFapbb"
      },
      "outputs": [],
      "source": []
    },
    {
      "cell_type": "markdown",
      "metadata": {
        "id": "ySbxh6RLapbc"
      },
      "source": [
        "# Using KNN\n",
        "\n",
        "**Import KNeighborsClassifier from scikit learn.**"
      ]
    },
    {
      "cell_type": "code",
      "execution_count": null,
      "metadata": {
        "id": "zT2uHqCJapbd"
      },
      "outputs": [],
      "source": []
    },
    {
      "cell_type": "markdown",
      "metadata": {
        "id": "oiOv7OZWapbe"
      },
      "source": [
        "**Create a KNN model instance with n_neighbors=1**"
      ]
    },
    {
      "cell_type": "code",
      "execution_count": null,
      "metadata": {
        "id": "MmF1okSTapbf"
      },
      "outputs": [],
      "source": []
    },
    {
      "cell_type": "markdown",
      "metadata": {
        "id": "LiU8bWIbapbg"
      },
      "source": [
        "**Fit this KNN model to the training data.**"
      ]
    },
    {
      "cell_type": "code",
      "execution_count": null,
      "metadata": {
        "id": "bMHAtuAPapbh"
      },
      "outputs": [],
      "source": []
    },
    {
      "cell_type": "markdown",
      "metadata": {
        "id": "p18TPovFapbh"
      },
      "source": [
        "# Predictions and Evaluations\n",
        "Let's evaluate our KNN model!"
      ]
    },
    {
      "cell_type": "markdown",
      "metadata": {
        "id": "s4WEAPx7apbi"
      },
      "source": [
        "**Use the predict method to predict values using your KNN model and X_test.**"
      ]
    },
    {
      "cell_type": "code",
      "execution_count": null,
      "metadata": {
        "id": "jhD1ovldapbi"
      },
      "outputs": [],
      "source": []
    },
    {
      "cell_type": "markdown",
      "metadata": {
        "id": "jN-KlTXhapbj"
      },
      "source": [
        "** Create a confusion matrix and classification report.**"
      ]
    },
    {
      "cell_type": "code",
      "execution_count": null,
      "metadata": {
        "id": "U-0k3bryapbj"
      },
      "outputs": [],
      "source": []
    },
    {
      "cell_type": "code",
      "execution_count": null,
      "metadata": {
        "id": "L_Fu_-W_apbk"
      },
      "outputs": [],
      "source": []
    },
    {
      "cell_type": "code",
      "execution_count": null,
      "metadata": {
        "id": "gzXt6udcapbk"
      },
      "outputs": [],
      "source": []
    },
    {
      "cell_type": "markdown",
      "metadata": {
        "id": "PfRM60Rrapbk"
      },
      "source": [
        "# Choosing a K Value\n",
        "Let's go ahead and use the elbow method to pick a good K Value!\n",
        "\n",
        "** Create a for loop that trains various KNN models with different k values, then keep track of the error_rate for each of these models with a list. Refer to the lecture if you are confused on this step.**"
      ]
    },
    {
      "cell_type": "code",
      "execution_count": null,
      "metadata": {
        "id": "N9E0YsRUapbl"
      },
      "outputs": [],
      "source": []
    },
    {
      "cell_type": "markdown",
      "metadata": {
        "id": "yIU9iToeapbl"
      },
      "source": [
        "**Now create the following plot using the information from your for loop.**"
      ]
    },
    {
      "cell_type": "code",
      "execution_count": null,
      "metadata": {
        "id": "WF7gm_NOapbm"
      },
      "outputs": [],
      "source": []
    },
    {
      "cell_type": "markdown",
      "metadata": {
        "id": "859J8g0eapbm"
      },
      "source": [
        "## Retrain with new K Value\n",
        "\n",
        "**Retrain your model with the best K value (up to you to decide what you want) and re-do the classification report and the confusion matrix.**"
      ]
    },
    {
      "cell_type": "code",
      "execution_count": null,
      "metadata": {
        "id": "TyyWSniwapbp"
      },
      "outputs": [],
      "source": []
    },
    {
      "cell_type": "markdown",
      "metadata": {
        "id": "8pnWeDkbapbq"
      },
      "source": [
        "# Great Job!"
      ]
    }
  ],
  "metadata": {
    "kernelspec": {
      "display_name": "Python 3",
      "language": "python",
      "name": "python3"
    },
    "language_info": {
      "codemirror_mode": {
        "name": "ipython",
        "version": 3
      },
      "file_extension": ".py",
      "mimetype": "text/x-python",
      "name": "python",
      "nbconvert_exporter": "python",
      "pygments_lexer": "ipython3",
      "version": "3.7.3"
    },
    "colab": {
      "provenance": [],
      "include_colab_link": true
    }
  },
  "nbformat": 4,
  "nbformat_minor": 0
}