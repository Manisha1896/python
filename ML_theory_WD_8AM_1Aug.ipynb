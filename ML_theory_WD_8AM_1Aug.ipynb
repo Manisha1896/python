{
  "nbformat": 4,
  "nbformat_minor": 0,
  "metadata": {
    "colab": {
      "provenance": [],
      "include_colab_link": true
    },
    "kernelspec": {
      "name": "python3",
      "display_name": "Python 3"
    },
    "language_info": {
      "name": "python"
    }
  },
  "cells": [
    {
      "cell_type": "markdown",
      "metadata": {
        "id": "view-in-github",
        "colab_type": "text"
      },
      "source": [
        "<a href=\"https://colab.research.google.com/github/Manisha1896/python/blob/main/ML_theory_WD_8AM_1Aug.ipynb\" target=\"_parent\"><img src=\"https://colab.research.google.com/assets/colab-badge.svg\" alt=\"Open In Colab\"/></a>"
      ]
    },
    {
      "cell_type": "code",
      "execution_count": null,
      "metadata": {
        "id": "GtaQs1eG0lXF"
      },
      "outputs": [],
      "source": []
    },
    {
      "cell_type": "markdown",
      "source": [
        "Machine Learning :\n",
        "AI (Artificial Intelligence)\n",
        "ML is an application of AI, which enables the machines to learn from the historical data and makes the predictions for the future using the same historical data.\n",
        "\n",
        "Data Science:\n",
        "DS is a very wide umbrella which has 4 primary components:\n",
        "1. ML (Machine Learning)\n",
        "2. AI (Artificial Intelligence)\n",
        "3. NLP (Natural Language Processing)\n",
        "4. DL (Deep Learning)\n",
        "\n",
        "Machine Learning :\n",
        "There are 2 most important things in ML:\n",
        "1. Train the machines on histirical data.\n",
        "2. Test the machines on the data\n",
        "\n",
        "ML is primarily categorised into 2 categories:\n",
        "1. Supervised Learning\n",
        "2. Unsupervised Learning\n",
        "\n",
        "Supervised : It is an important type of ML method which will help us to provide the correct predictions based on the historical data. In supervised learning we provide \"labelled data\" to the ML model for training the model, and on the basis of training we will make the predictions on the data.\n",
        "Supervised learning is further classified into 2 types:\n",
        "  1. Classification\n",
        "  2. Regression\n",
        "\n",
        "In ML we have models/algorithms:\n",
        "Classification models:\n",
        "  1. Logistic Regression\n",
        "  2. K-NN (K nearest neighbors)\n",
        "  3. Random Forest and Decision Tree\n",
        "  4. SVM (Support Vector Machines)\n",
        "\n",
        "Regression:\n",
        "  1. Linear Regression\n",
        "\n",
        "Unsupervised Learning: The primary purpose of unsupervised learning is to restructure the data.\n",
        "  1. K-Means Clustering\n",
        "\n",
        "Clustering: It is a way of grouping the data in such a manner that the data points with most similarities remain in the same cluster and that cluster will have either no or very less similarities with other clusters.\n",
        "\n",
        "Steps to implement a ML solution using ML models/algorithms:\n",
        "The most important thing in the process of ML implementation is to understand the problem statment and what exactly are you trying to achieve with this solution.\n",
        "\n",
        "To solve a ML problem , there are few steps which needs to be followed for every model.\n",
        "1. Gather the data\n",
        "2. Data Prepration\n",
        "3. Data-Preprocessing\n",
        "4. Model Implementation\n",
        "  1. split the data into train and test\n",
        "  2. Train the model on the training data\n",
        "  3. Predict the  outcome on the testing data\n",
        "  4. Model Evaluation"
      ],
      "metadata": {
        "id": "roeyzB1n3kXb"
      }
    }
  ]
}