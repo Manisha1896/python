{
  "nbformat": 4,
  "nbformat_minor": 0,
  "metadata": {
    "colab": {
      "provenance": [],
      "include_colab_link": true
    },
    "kernelspec": {
      "name": "python3",
      "display_name": "Python 3"
    },
    "language_info": {
      "name": "python"
    }
  },
  "cells": [
    {
      "cell_type": "markdown",
      "metadata": {
        "id": "view-in-github",
        "colab_type": "text"
      },
      "source": [
        "<a href=\"https://colab.research.google.com/github/Manisha1896/python/blob/main/Linear_Regression_WD_8AM_16Aug.ipynb\" target=\"_parent\"><img src=\"https://colab.research.google.com/assets/colab-badge.svg\" alt=\"Open In Colab\"/></a>"
      ]
    },
    {
      "cell_type": "code",
      "execution_count": null,
      "metadata": {
        "id": "9u1hOsnxQJOE"
      },
      "outputs": [],
      "source": [
        "import numpy as np\n",
        "import pandas as pd\n",
        "import matplotlib.pyplot as plt\n",
        "import seaborn as sns"
      ]
    },
    {
      "cell_type": "code",
      "source": [
        "df = pd.read_csv(\"USA_Housing.csv\")"
      ],
      "metadata": {
        "id": "_7BtgwTuRV0P"
      },
      "execution_count": null,
      "outputs": []
    },
    {
      "cell_type": "code",
      "source": [
        "df.head()"
      ],
      "metadata": {
        "colab": {
          "base_uri": "https://localhost:8080/",
          "height": 250
        },
        "id": "-0UJBr-XRas-",
        "outputId": "0cb8ffdc-ea42-45d1-ee2a-04dfd2a6a4dd"
      },
      "execution_count": null,
      "outputs": [
        {
          "output_type": "execute_result",
          "data": {
            "text/plain": [
              "   Avg. Area Income  Avg. Area House Age  Avg. Area Number of Rooms  \\\n",
              "0       79545.45857             5.682861                   7.009188   \n",
              "1       79248.64245             6.002900                   6.730821   \n",
              "2       61287.06718             5.865890                   8.512727   \n",
              "3       63345.24005             7.188236                   5.586729   \n",
              "4       59982.19723             5.040555                   7.839388   \n",
              "\n",
              "   Avg. Area Number of Bedrooms  Area Population         Price  \\\n",
              "0                          4.09      23086.80050  1.059034e+06   \n",
              "1                          3.09      40173.07217  1.505891e+06   \n",
              "2                          5.13      36882.15940  1.058988e+06   \n",
              "3                          3.26      34310.24283  1.260617e+06   \n",
              "4                          4.23      26354.10947  6.309435e+05   \n",
              "\n",
              "                                             Address  \n",
              "0  208 Michael Ferry Apt. 674\\nLaurabury, NE 3701...  \n",
              "1  188 Johnson Views Suite 079\\nLake Kathleen, CA...  \n",
              "2  9127 Elizabeth Stravenue\\nDanieltown, WI 06482...  \n",
              "3                          USS Barnett\\nFPO AP 44820  \n",
              "4                         USNS Raymond\\nFPO AE 09386  "
            ],
            "text/html": [
              "\n",
              "\n",
              "  <div id=\"df-79745039-11a8-4b17-bd02-cd212e78387e\">\n",
              "    <div class=\"colab-df-container\">\n",
              "      <div>\n",
              "<style scoped>\n",
              "    .dataframe tbody tr th:only-of-type {\n",
              "        vertical-align: middle;\n",
              "    }\n",
              "\n",
              "    .dataframe tbody tr th {\n",
              "        vertical-align: top;\n",
              "    }\n",
              "\n",
              "    .dataframe thead th {\n",
              "        text-align: right;\n",
              "    }\n",
              "</style>\n",
              "<table border=\"1\" class=\"dataframe\">\n",
              "  <thead>\n",
              "    <tr style=\"text-align: right;\">\n",
              "      <th></th>\n",
              "      <th>Avg. Area Income</th>\n",
              "      <th>Avg. Area House Age</th>\n",
              "      <th>Avg. Area Number of Rooms</th>\n",
              "      <th>Avg. Area Number of Bedrooms</th>\n",
              "      <th>Area Population</th>\n",
              "      <th>Price</th>\n",
              "      <th>Address</th>\n",
              "    </tr>\n",
              "  </thead>\n",
              "  <tbody>\n",
              "    <tr>\n",
              "      <th>0</th>\n",
              "      <td>79545.45857</td>\n",
              "      <td>5.682861</td>\n",
              "      <td>7.009188</td>\n",
              "      <td>4.09</td>\n",
              "      <td>23086.80050</td>\n",
              "      <td>1.059034e+06</td>\n",
              "      <td>208 Michael Ferry Apt. 674\\nLaurabury, NE 3701...</td>\n",
              "    </tr>\n",
              "    <tr>\n",
              "      <th>1</th>\n",
              "      <td>79248.64245</td>\n",
              "      <td>6.002900</td>\n",
              "      <td>6.730821</td>\n",
              "      <td>3.09</td>\n",
              "      <td>40173.07217</td>\n",
              "      <td>1.505891e+06</td>\n",
              "      <td>188 Johnson Views Suite 079\\nLake Kathleen, CA...</td>\n",
              "    </tr>\n",
              "    <tr>\n",
              "      <th>2</th>\n",
              "      <td>61287.06718</td>\n",
              "      <td>5.865890</td>\n",
              "      <td>8.512727</td>\n",
              "      <td>5.13</td>\n",
              "      <td>36882.15940</td>\n",
              "      <td>1.058988e+06</td>\n",
              "      <td>9127 Elizabeth Stravenue\\nDanieltown, WI 06482...</td>\n",
              "    </tr>\n",
              "    <tr>\n",
              "      <th>3</th>\n",
              "      <td>63345.24005</td>\n",
              "      <td>7.188236</td>\n",
              "      <td>5.586729</td>\n",
              "      <td>3.26</td>\n",
              "      <td>34310.24283</td>\n",
              "      <td>1.260617e+06</td>\n",
              "      <td>USS Barnett\\nFPO AP 44820</td>\n",
              "    </tr>\n",
              "    <tr>\n",
              "      <th>4</th>\n",
              "      <td>59982.19723</td>\n",
              "      <td>5.040555</td>\n",
              "      <td>7.839388</td>\n",
              "      <td>4.23</td>\n",
              "      <td>26354.10947</td>\n",
              "      <td>6.309435e+05</td>\n",
              "      <td>USNS Raymond\\nFPO AE 09386</td>\n",
              "    </tr>\n",
              "  </tbody>\n",
              "</table>\n",
              "</div>\n",
              "      <button class=\"colab-df-convert\" onclick=\"convertToInteractive('df-79745039-11a8-4b17-bd02-cd212e78387e')\"\n",
              "              title=\"Convert this dataframe to an interactive table.\"\n",
              "              style=\"display:none;\">\n",
              "\n",
              "  <svg xmlns=\"http://www.w3.org/2000/svg\" height=\"24px\"viewBox=\"0 0 24 24\"\n",
              "       width=\"24px\">\n",
              "    <path d=\"M0 0h24v24H0V0z\" fill=\"none\"/>\n",
              "    <path d=\"M18.56 5.44l.94 2.06.94-2.06 2.06-.94-2.06-.94-.94-2.06-.94 2.06-2.06.94zm-11 1L8.5 8.5l.94-2.06 2.06-.94-2.06-.94L8.5 2.5l-.94 2.06-2.06.94zm10 10l.94 2.06.94-2.06 2.06-.94-2.06-.94-.94-2.06-.94 2.06-2.06.94z\"/><path d=\"M17.41 7.96l-1.37-1.37c-.4-.4-.92-.59-1.43-.59-.52 0-1.04.2-1.43.59L10.3 9.45l-7.72 7.72c-.78.78-.78 2.05 0 2.83L4 21.41c.39.39.9.59 1.41.59.51 0 1.02-.2 1.41-.59l7.78-7.78 2.81-2.81c.8-.78.8-2.07 0-2.86zM5.41 20L4 18.59l7.72-7.72 1.47 1.35L5.41 20z\"/>\n",
              "  </svg>\n",
              "      </button>\n",
              "\n",
              "\n",
              "\n",
              "    <div id=\"df-cf4a9492-37fa-4996-96c0-c132155857c0\">\n",
              "      <button class=\"colab-df-quickchart\" onclick=\"quickchart('df-cf4a9492-37fa-4996-96c0-c132155857c0')\"\n",
              "              title=\"Suggest charts.\"\n",
              "              style=\"display:none;\">\n",
              "\n",
              "<svg xmlns=\"http://www.w3.org/2000/svg\" height=\"24px\"viewBox=\"0 0 24 24\"\n",
              "     width=\"24px\">\n",
              "    <g>\n",
              "        <path d=\"M19 3H5c-1.1 0-2 .9-2 2v14c0 1.1.9 2 2 2h14c1.1 0 2-.9 2-2V5c0-1.1-.9-2-2-2zM9 17H7v-7h2v7zm4 0h-2V7h2v10zm4 0h-2v-4h2v4z\"/>\n",
              "    </g>\n",
              "</svg>\n",
              "      </button>\n",
              "    </div>\n",
              "\n",
              "<style>\n",
              "  .colab-df-quickchart {\n",
              "    background-color: #E8F0FE;\n",
              "    border: none;\n",
              "    border-radius: 50%;\n",
              "    cursor: pointer;\n",
              "    display: none;\n",
              "    fill: #1967D2;\n",
              "    height: 32px;\n",
              "    padding: 0 0 0 0;\n",
              "    width: 32px;\n",
              "  }\n",
              "\n",
              "  .colab-df-quickchart:hover {\n",
              "    background-color: #E2EBFA;\n",
              "    box-shadow: 0px 1px 2px rgba(60, 64, 67, 0.3), 0px 1px 3px 1px rgba(60, 64, 67, 0.15);\n",
              "    fill: #174EA6;\n",
              "  }\n",
              "\n",
              "  [theme=dark] .colab-df-quickchart {\n",
              "    background-color: #3B4455;\n",
              "    fill: #D2E3FC;\n",
              "  }\n",
              "\n",
              "  [theme=dark] .colab-df-quickchart:hover {\n",
              "    background-color: #434B5C;\n",
              "    box-shadow: 0px 1px 3px 1px rgba(0, 0, 0, 0.15);\n",
              "    filter: drop-shadow(0px 1px 2px rgba(0, 0, 0, 0.3));\n",
              "    fill: #FFFFFF;\n",
              "  }\n",
              "</style>\n",
              "\n",
              "    <script>\n",
              "      async function quickchart(key) {\n",
              "        const containerElement = document.querySelector('#' + key);\n",
              "        const charts = await google.colab.kernel.invokeFunction(\n",
              "            'suggestCharts', [key], {});\n",
              "      }\n",
              "    </script>\n",
              "\n",
              "      <script>\n",
              "\n",
              "function displayQuickchartButton(domScope) {\n",
              "  let quickchartButtonEl =\n",
              "    domScope.querySelector('#df-cf4a9492-37fa-4996-96c0-c132155857c0 button.colab-df-quickchart');\n",
              "  quickchartButtonEl.style.display =\n",
              "    google.colab.kernel.accessAllowed ? 'block' : 'none';\n",
              "}\n",
              "\n",
              "        displayQuickchartButton(document);\n",
              "      </script>\n",
              "      <style>\n",
              "    .colab-df-container {\n",
              "      display:flex;\n",
              "      flex-wrap:wrap;\n",
              "      gap: 12px;\n",
              "    }\n",
              "\n",
              "    .colab-df-convert {\n",
              "      background-color: #E8F0FE;\n",
              "      border: none;\n",
              "      border-radius: 50%;\n",
              "      cursor: pointer;\n",
              "      display: none;\n",
              "      fill: #1967D2;\n",
              "      height: 32px;\n",
              "      padding: 0 0 0 0;\n",
              "      width: 32px;\n",
              "    }\n",
              "\n",
              "    .colab-df-convert:hover {\n",
              "      background-color: #E2EBFA;\n",
              "      box-shadow: 0px 1px 2px rgba(60, 64, 67, 0.3), 0px 1px 3px 1px rgba(60, 64, 67, 0.15);\n",
              "      fill: #174EA6;\n",
              "    }\n",
              "\n",
              "    [theme=dark] .colab-df-convert {\n",
              "      background-color: #3B4455;\n",
              "      fill: #D2E3FC;\n",
              "    }\n",
              "\n",
              "    [theme=dark] .colab-df-convert:hover {\n",
              "      background-color: #434B5C;\n",
              "      box-shadow: 0px 1px 3px 1px rgba(0, 0, 0, 0.15);\n",
              "      filter: drop-shadow(0px 1px 2px rgba(0, 0, 0, 0.3));\n",
              "      fill: #FFFFFF;\n",
              "    }\n",
              "  </style>\n",
              "\n",
              "      <script>\n",
              "        const buttonEl =\n",
              "          document.querySelector('#df-79745039-11a8-4b17-bd02-cd212e78387e button.colab-df-convert');\n",
              "        buttonEl.style.display =\n",
              "          google.colab.kernel.accessAllowed ? 'block' : 'none';\n",
              "\n",
              "        async function convertToInteractive(key) {\n",
              "          const element = document.querySelector('#df-79745039-11a8-4b17-bd02-cd212e78387e');\n",
              "          const dataTable =\n",
              "            await google.colab.kernel.invokeFunction('convertToInteractive',\n",
              "                                                     [key], {});\n",
              "          if (!dataTable) return;\n",
              "\n",
              "          const docLinkHtml = 'Like what you see? Visit the ' +\n",
              "            '<a target=\"_blank\" href=https://colab.research.google.com/notebooks/data_table.ipynb>data table notebook</a>'\n",
              "            + ' to learn more about interactive tables.';\n",
              "          element.innerHTML = '';\n",
              "          dataTable['output_type'] = 'display_data';\n",
              "          await google.colab.output.renderOutput(dataTable, element);\n",
              "          const docLink = document.createElement('div');\n",
              "          docLink.innerHTML = docLinkHtml;\n",
              "          element.appendChild(docLink);\n",
              "        }\n",
              "      </script>\n",
              "    </div>\n",
              "  </div>\n"
            ]
          },
          "metadata": {},
          "execution_count": 3
        }
      ]
    },
    {
      "cell_type": "code",
      "source": [
        "df.info()"
      ],
      "metadata": {
        "colab": {
          "base_uri": "https://localhost:8080/"
        },
        "id": "axpWqfjxSJ_t",
        "outputId": "ad849811-72b7-47b8-c5e6-5d038cf82429"
      },
      "execution_count": null,
      "outputs": [
        {
          "output_type": "stream",
          "name": "stdout",
          "text": [
            "<class 'pandas.core.frame.DataFrame'>\n",
            "RangeIndex: 5000 entries, 0 to 4999\n",
            "Data columns (total 7 columns):\n",
            " #   Column                        Non-Null Count  Dtype  \n",
            "---  ------                        --------------  -----  \n",
            " 0   Avg. Area Income              5000 non-null   float64\n",
            " 1   Avg. Area House Age           5000 non-null   float64\n",
            " 2   Avg. Area Number of Rooms     5000 non-null   float64\n",
            " 3   Avg. Area Number of Bedrooms  5000 non-null   float64\n",
            " 4   Area Population               5000 non-null   float64\n",
            " 5   Price                         5000 non-null   float64\n",
            " 6   Address                       5000 non-null   object \n",
            "dtypes: float64(6), object(1)\n",
            "memory usage: 273.6+ KB\n"
          ]
        }
      ]
    },
    {
      "cell_type": "code",
      "source": [
        "df.corr()"
      ],
      "metadata": {
        "colab": {
          "base_uri": "https://localhost:8080/",
          "height": 294
        },
        "id": "RvI42bZ6RdVm",
        "outputId": "629d6c4b-c2d8-414f-9052-7ebca2af88ba"
      },
      "execution_count": null,
      "outputs": [
        {
          "output_type": "stream",
          "name": "stderr",
          "text": [
            "<ipython-input-5-2f6f6606aa2c>:1: FutureWarning: The default value of numeric_only in DataFrame.corr is deprecated. In a future version, it will default to False. Select only valid columns or specify the value of numeric_only to silence this warning.\n",
            "  df.corr()\n"
          ]
        },
        {
          "output_type": "execute_result",
          "data": {
            "text/plain": [
              "                              Avg. Area Income  Avg. Area House Age  \\\n",
              "Avg. Area Income                      1.000000            -0.002007   \n",
              "Avg. Area House Age                  -0.002007             1.000000   \n",
              "Avg. Area Number of Rooms            -0.011032            -0.009428   \n",
              "Avg. Area Number of Bedrooms          0.019788             0.006149   \n",
              "Area Population                      -0.016234            -0.018743   \n",
              "Price                                 0.639734             0.452543   \n",
              "\n",
              "                              Avg. Area Number of Rooms  \\\n",
              "Avg. Area Income                              -0.011032   \n",
              "Avg. Area House Age                           -0.009428   \n",
              "Avg. Area Number of Rooms                      1.000000   \n",
              "Avg. Area Number of Bedrooms                   0.462695   \n",
              "Area Population                                0.002040   \n",
              "Price                                          0.335664   \n",
              "\n",
              "                              Avg. Area Number of Bedrooms  Area Population  \\\n",
              "Avg. Area Income                                  0.019788        -0.016234   \n",
              "Avg. Area House Age                               0.006149        -0.018743   \n",
              "Avg. Area Number of Rooms                         0.462695         0.002040   \n",
              "Avg. Area Number of Bedrooms                      1.000000        -0.022168   \n",
              "Area Population                                  -0.022168         1.000000   \n",
              "Price                                             0.171071         0.408556   \n",
              "\n",
              "                                 Price  \n",
              "Avg. Area Income              0.639734  \n",
              "Avg. Area House Age           0.452543  \n",
              "Avg. Area Number of Rooms     0.335664  \n",
              "Avg. Area Number of Bedrooms  0.171071  \n",
              "Area Population               0.408556  \n",
              "Price                         1.000000  "
            ],
            "text/html": [
              "\n",
              "\n",
              "  <div id=\"df-1d562190-8eac-4454-a580-9bac5d2b01e0\">\n",
              "    <div class=\"colab-df-container\">\n",
              "      <div>\n",
              "<style scoped>\n",
              "    .dataframe tbody tr th:only-of-type {\n",
              "        vertical-align: middle;\n",
              "    }\n",
              "\n",
              "    .dataframe tbody tr th {\n",
              "        vertical-align: top;\n",
              "    }\n",
              "\n",
              "    .dataframe thead th {\n",
              "        text-align: right;\n",
              "    }\n",
              "</style>\n",
              "<table border=\"1\" class=\"dataframe\">\n",
              "  <thead>\n",
              "    <tr style=\"text-align: right;\">\n",
              "      <th></th>\n",
              "      <th>Avg. Area Income</th>\n",
              "      <th>Avg. Area House Age</th>\n",
              "      <th>Avg. Area Number of Rooms</th>\n",
              "      <th>Avg. Area Number of Bedrooms</th>\n",
              "      <th>Area Population</th>\n",
              "      <th>Price</th>\n",
              "    </tr>\n",
              "  </thead>\n",
              "  <tbody>\n",
              "    <tr>\n",
              "      <th>Avg. Area Income</th>\n",
              "      <td>1.000000</td>\n",
              "      <td>-0.002007</td>\n",
              "      <td>-0.011032</td>\n",
              "      <td>0.019788</td>\n",
              "      <td>-0.016234</td>\n",
              "      <td>0.639734</td>\n",
              "    </tr>\n",
              "    <tr>\n",
              "      <th>Avg. Area House Age</th>\n",
              "      <td>-0.002007</td>\n",
              "      <td>1.000000</td>\n",
              "      <td>-0.009428</td>\n",
              "      <td>0.006149</td>\n",
              "      <td>-0.018743</td>\n",
              "      <td>0.452543</td>\n",
              "    </tr>\n",
              "    <tr>\n",
              "      <th>Avg. Area Number of Rooms</th>\n",
              "      <td>-0.011032</td>\n",
              "      <td>-0.009428</td>\n",
              "      <td>1.000000</td>\n",
              "      <td>0.462695</td>\n",
              "      <td>0.002040</td>\n",
              "      <td>0.335664</td>\n",
              "    </tr>\n",
              "    <tr>\n",
              "      <th>Avg. Area Number of Bedrooms</th>\n",
              "      <td>0.019788</td>\n",
              "      <td>0.006149</td>\n",
              "      <td>0.462695</td>\n",
              "      <td>1.000000</td>\n",
              "      <td>-0.022168</td>\n",
              "      <td>0.171071</td>\n",
              "    </tr>\n",
              "    <tr>\n",
              "      <th>Area Population</th>\n",
              "      <td>-0.016234</td>\n",
              "      <td>-0.018743</td>\n",
              "      <td>0.002040</td>\n",
              "      <td>-0.022168</td>\n",
              "      <td>1.000000</td>\n",
              "      <td>0.408556</td>\n",
              "    </tr>\n",
              "    <tr>\n",
              "      <th>Price</th>\n",
              "      <td>0.639734</td>\n",
              "      <td>0.452543</td>\n",
              "      <td>0.335664</td>\n",
              "      <td>0.171071</td>\n",
              "      <td>0.408556</td>\n",
              "      <td>1.000000</td>\n",
              "    </tr>\n",
              "  </tbody>\n",
              "</table>\n",
              "</div>\n",
              "      <button class=\"colab-df-convert\" onclick=\"convertToInteractive('df-1d562190-8eac-4454-a580-9bac5d2b01e0')\"\n",
              "              title=\"Convert this dataframe to an interactive table.\"\n",
              "              style=\"display:none;\">\n",
              "\n",
              "  <svg xmlns=\"http://www.w3.org/2000/svg\" height=\"24px\"viewBox=\"0 0 24 24\"\n",
              "       width=\"24px\">\n",
              "    <path d=\"M0 0h24v24H0V0z\" fill=\"none\"/>\n",
              "    <path d=\"M18.56 5.44l.94 2.06.94-2.06 2.06-.94-2.06-.94-.94-2.06-.94 2.06-2.06.94zm-11 1L8.5 8.5l.94-2.06 2.06-.94-2.06-.94L8.5 2.5l-.94 2.06-2.06.94zm10 10l.94 2.06.94-2.06 2.06-.94-2.06-.94-.94-2.06-.94 2.06-2.06.94z\"/><path d=\"M17.41 7.96l-1.37-1.37c-.4-.4-.92-.59-1.43-.59-.52 0-1.04.2-1.43.59L10.3 9.45l-7.72 7.72c-.78.78-.78 2.05 0 2.83L4 21.41c.39.39.9.59 1.41.59.51 0 1.02-.2 1.41-.59l7.78-7.78 2.81-2.81c.8-.78.8-2.07 0-2.86zM5.41 20L4 18.59l7.72-7.72 1.47 1.35L5.41 20z\"/>\n",
              "  </svg>\n",
              "      </button>\n",
              "\n",
              "\n",
              "\n",
              "    <div id=\"df-fd402a7e-445f-4e77-97e1-b5006344611f\">\n",
              "      <button class=\"colab-df-quickchart\" onclick=\"quickchart('df-fd402a7e-445f-4e77-97e1-b5006344611f')\"\n",
              "              title=\"Suggest charts.\"\n",
              "              style=\"display:none;\">\n",
              "\n",
              "<svg xmlns=\"http://www.w3.org/2000/svg\" height=\"24px\"viewBox=\"0 0 24 24\"\n",
              "     width=\"24px\">\n",
              "    <g>\n",
              "        <path d=\"M19 3H5c-1.1 0-2 .9-2 2v14c0 1.1.9 2 2 2h14c1.1 0 2-.9 2-2V5c0-1.1-.9-2-2-2zM9 17H7v-7h2v7zm4 0h-2V7h2v10zm4 0h-2v-4h2v4z\"/>\n",
              "    </g>\n",
              "</svg>\n",
              "      </button>\n",
              "    </div>\n",
              "\n",
              "<style>\n",
              "  .colab-df-quickchart {\n",
              "    background-color: #E8F0FE;\n",
              "    border: none;\n",
              "    border-radius: 50%;\n",
              "    cursor: pointer;\n",
              "    display: none;\n",
              "    fill: #1967D2;\n",
              "    height: 32px;\n",
              "    padding: 0 0 0 0;\n",
              "    width: 32px;\n",
              "  }\n",
              "\n",
              "  .colab-df-quickchart:hover {\n",
              "    background-color: #E2EBFA;\n",
              "    box-shadow: 0px 1px 2px rgba(60, 64, 67, 0.3), 0px 1px 3px 1px rgba(60, 64, 67, 0.15);\n",
              "    fill: #174EA6;\n",
              "  }\n",
              "\n",
              "  [theme=dark] .colab-df-quickchart {\n",
              "    background-color: #3B4455;\n",
              "    fill: #D2E3FC;\n",
              "  }\n",
              "\n",
              "  [theme=dark] .colab-df-quickchart:hover {\n",
              "    background-color: #434B5C;\n",
              "    box-shadow: 0px 1px 3px 1px rgba(0, 0, 0, 0.15);\n",
              "    filter: drop-shadow(0px 1px 2px rgba(0, 0, 0, 0.3));\n",
              "    fill: #FFFFFF;\n",
              "  }\n",
              "</style>\n",
              "\n",
              "    <script>\n",
              "      async function quickchart(key) {\n",
              "        const containerElement = document.querySelector('#' + key);\n",
              "        const charts = await google.colab.kernel.invokeFunction(\n",
              "            'suggestCharts', [key], {});\n",
              "      }\n",
              "    </script>\n",
              "\n",
              "      <script>\n",
              "\n",
              "function displayQuickchartButton(domScope) {\n",
              "  let quickchartButtonEl =\n",
              "    domScope.querySelector('#df-fd402a7e-445f-4e77-97e1-b5006344611f button.colab-df-quickchart');\n",
              "  quickchartButtonEl.style.display =\n",
              "    google.colab.kernel.accessAllowed ? 'block' : 'none';\n",
              "}\n",
              "\n",
              "        displayQuickchartButton(document);\n",
              "      </script>\n",
              "      <style>\n",
              "    .colab-df-container {\n",
              "      display:flex;\n",
              "      flex-wrap:wrap;\n",
              "      gap: 12px;\n",
              "    }\n",
              "\n",
              "    .colab-df-convert {\n",
              "      background-color: #E8F0FE;\n",
              "      border: none;\n",
              "      border-radius: 50%;\n",
              "      cursor: pointer;\n",
              "      display: none;\n",
              "      fill: #1967D2;\n",
              "      height: 32px;\n",
              "      padding: 0 0 0 0;\n",
              "      width: 32px;\n",
              "    }\n",
              "\n",
              "    .colab-df-convert:hover {\n",
              "      background-color: #E2EBFA;\n",
              "      box-shadow: 0px 1px 2px rgba(60, 64, 67, 0.3), 0px 1px 3px 1px rgba(60, 64, 67, 0.15);\n",
              "      fill: #174EA6;\n",
              "    }\n",
              "\n",
              "    [theme=dark] .colab-df-convert {\n",
              "      background-color: #3B4455;\n",
              "      fill: #D2E3FC;\n",
              "    }\n",
              "\n",
              "    [theme=dark] .colab-df-convert:hover {\n",
              "      background-color: #434B5C;\n",
              "      box-shadow: 0px 1px 3px 1px rgba(0, 0, 0, 0.15);\n",
              "      filter: drop-shadow(0px 1px 2px rgba(0, 0, 0, 0.3));\n",
              "      fill: #FFFFFF;\n",
              "    }\n",
              "  </style>\n",
              "\n",
              "      <script>\n",
              "        const buttonEl =\n",
              "          document.querySelector('#df-1d562190-8eac-4454-a580-9bac5d2b01e0 button.colab-df-convert');\n",
              "        buttonEl.style.display =\n",
              "          google.colab.kernel.accessAllowed ? 'block' : 'none';\n",
              "\n",
              "        async function convertToInteractive(key) {\n",
              "          const element = document.querySelector('#df-1d562190-8eac-4454-a580-9bac5d2b01e0');\n",
              "          const dataTable =\n",
              "            await google.colab.kernel.invokeFunction('convertToInteractive',\n",
              "                                                     [key], {});\n",
              "          if (!dataTable) return;\n",
              "\n",
              "          const docLinkHtml = 'Like what you see? Visit the ' +\n",
              "            '<a target=\"_blank\" href=https://colab.research.google.com/notebooks/data_table.ipynb>data table notebook</a>'\n",
              "            + ' to learn more about interactive tables.';\n",
              "          element.innerHTML = '';\n",
              "          dataTable['output_type'] = 'display_data';\n",
              "          await google.colab.output.renderOutput(dataTable, element);\n",
              "          const docLink = document.createElement('div');\n",
              "          docLink.innerHTML = docLinkHtml;\n",
              "          element.appendChild(docLink);\n",
              "        }\n",
              "      </script>\n",
              "    </div>\n",
              "  </div>\n"
            ]
          },
          "metadata": {},
          "execution_count": 5
        }
      ]
    },
    {
      "cell_type": "code",
      "source": [
        "x = df.drop(['Price','Address'],axis=1)\n",
        "y = df['Price']"
      ],
      "metadata": {
        "id": "lDanHC7wSRf0"
      },
      "execution_count": null,
      "outputs": []
    },
    {
      "cell_type": "code",
      "source": [
        "#train_test_split\n",
        "from sklearn.model_selection import train_test_split\n",
        "x_train,x_test,y_train,y_test = train_test_split(x,y,test_size = 0.20,\n",
        "                                                 random_state = 100)"
      ],
      "metadata": {
        "id": "-3AoQKe-T1wt"
      },
      "execution_count": null,
      "outputs": []
    },
    {
      "cell_type": "code",
      "source": [
        "x_train.shape"
      ],
      "metadata": {
        "colab": {
          "base_uri": "https://localhost:8080/"
        },
        "id": "Qn2KNBBMUjW_",
        "outputId": "e0f2ce99-84a5-4c64-fc93-ffb66ff4a1d9"
      },
      "execution_count": null,
      "outputs": [
        {
          "output_type": "execute_result",
          "data": {
            "text/plain": [
              "(4000, 5)"
            ]
          },
          "metadata": {},
          "execution_count": 8
        }
      ]
    },
    {
      "cell_type": "code",
      "source": [
        "x_test.shape"
      ],
      "metadata": {
        "colab": {
          "base_uri": "https://localhost:8080/"
        },
        "id": "g01ayoAbUrTk",
        "outputId": "4b72f638-36d6-491a-a0b4-ef985e92b8b5"
      },
      "execution_count": null,
      "outputs": [
        {
          "output_type": "execute_result",
          "data": {
            "text/plain": [
              "(1000, 5)"
            ]
          },
          "metadata": {},
          "execution_count": 9
        }
      ]
    },
    {
      "cell_type": "code",
      "source": [
        "#model implementation\n",
        "from sklearn.linear_model import LinearRegression"
      ],
      "metadata": {
        "id": "BQIQ18JSUvex"
      },
      "execution_count": null,
      "outputs": []
    },
    {
      "cell_type": "code",
      "source": [
        "lm = LinearRegression()"
      ],
      "metadata": {
        "id": "kyc8oMtKU8Se"
      },
      "execution_count": null,
      "outputs": []
    },
    {
      "cell_type": "code",
      "source": [
        "lm.fit(x_train,y_train)"
      ],
      "metadata": {
        "colab": {
          "base_uri": "https://localhost:8080/",
          "height": 75
        },
        "id": "KPcS5Z8BU_0v",
        "outputId": "a2f96441-d0c2-487b-c38c-7b8ca8b579cf"
      },
      "execution_count": null,
      "outputs": [
        {
          "output_type": "execute_result",
          "data": {
            "text/plain": [
              "LinearRegression()"
            ],
            "text/html": [
              "<style>#sk-container-id-1 {color: black;background-color: white;}#sk-container-id-1 pre{padding: 0;}#sk-container-id-1 div.sk-toggleable {background-color: white;}#sk-container-id-1 label.sk-toggleable__label {cursor: pointer;display: block;width: 100%;margin-bottom: 0;padding: 0.3em;box-sizing: border-box;text-align: center;}#sk-container-id-1 label.sk-toggleable__label-arrow:before {content: \"▸\";float: left;margin-right: 0.25em;color: #696969;}#sk-container-id-1 label.sk-toggleable__label-arrow:hover:before {color: black;}#sk-container-id-1 div.sk-estimator:hover label.sk-toggleable__label-arrow:before {color: black;}#sk-container-id-1 div.sk-toggleable__content {max-height: 0;max-width: 0;overflow: hidden;text-align: left;background-color: #f0f8ff;}#sk-container-id-1 div.sk-toggleable__content pre {margin: 0.2em;color: black;border-radius: 0.25em;background-color: #f0f8ff;}#sk-container-id-1 input.sk-toggleable__control:checked~div.sk-toggleable__content {max-height: 200px;max-width: 100%;overflow: auto;}#sk-container-id-1 input.sk-toggleable__control:checked~label.sk-toggleable__label-arrow:before {content: \"▾\";}#sk-container-id-1 div.sk-estimator input.sk-toggleable__control:checked~label.sk-toggleable__label {background-color: #d4ebff;}#sk-container-id-1 div.sk-label input.sk-toggleable__control:checked~label.sk-toggleable__label {background-color: #d4ebff;}#sk-container-id-1 input.sk-hidden--visually {border: 0;clip: rect(1px 1px 1px 1px);clip: rect(1px, 1px, 1px, 1px);height: 1px;margin: -1px;overflow: hidden;padding: 0;position: absolute;width: 1px;}#sk-container-id-1 div.sk-estimator {font-family: monospace;background-color: #f0f8ff;border: 1px dotted black;border-radius: 0.25em;box-sizing: border-box;margin-bottom: 0.5em;}#sk-container-id-1 div.sk-estimator:hover {background-color: #d4ebff;}#sk-container-id-1 div.sk-parallel-item::after {content: \"\";width: 100%;border-bottom: 1px solid gray;flex-grow: 1;}#sk-container-id-1 div.sk-label:hover label.sk-toggleable__label {background-color: #d4ebff;}#sk-container-id-1 div.sk-serial::before {content: \"\";position: absolute;border-left: 1px solid gray;box-sizing: border-box;top: 0;bottom: 0;left: 50%;z-index: 0;}#sk-container-id-1 div.sk-serial {display: flex;flex-direction: column;align-items: center;background-color: white;padding-right: 0.2em;padding-left: 0.2em;position: relative;}#sk-container-id-1 div.sk-item {position: relative;z-index: 1;}#sk-container-id-1 div.sk-parallel {display: flex;align-items: stretch;justify-content: center;background-color: white;position: relative;}#sk-container-id-1 div.sk-item::before, #sk-container-id-1 div.sk-parallel-item::before {content: \"\";position: absolute;border-left: 1px solid gray;box-sizing: border-box;top: 0;bottom: 0;left: 50%;z-index: -1;}#sk-container-id-1 div.sk-parallel-item {display: flex;flex-direction: column;z-index: 1;position: relative;background-color: white;}#sk-container-id-1 div.sk-parallel-item:first-child::after {align-self: flex-end;width: 50%;}#sk-container-id-1 div.sk-parallel-item:last-child::after {align-self: flex-start;width: 50%;}#sk-container-id-1 div.sk-parallel-item:only-child::after {width: 0;}#sk-container-id-1 div.sk-dashed-wrapped {border: 1px dashed gray;margin: 0 0.4em 0.5em 0.4em;box-sizing: border-box;padding-bottom: 0.4em;background-color: white;}#sk-container-id-1 div.sk-label label {font-family: monospace;font-weight: bold;display: inline-block;line-height: 1.2em;}#sk-container-id-1 div.sk-label-container {text-align: center;}#sk-container-id-1 div.sk-container {/* jupyter's `normalize.less` sets `[hidden] { display: none; }` but bootstrap.min.css set `[hidden] { display: none !important; }` so we also need the `!important` here to be able to override the default hidden behavior on the sphinx rendered scikit-learn.org. See: https://github.com/scikit-learn/scikit-learn/issues/21755 */display: inline-block !important;position: relative;}#sk-container-id-1 div.sk-text-repr-fallback {display: none;}</style><div id=\"sk-container-id-1\" class=\"sk-top-container\"><div class=\"sk-text-repr-fallback\"><pre>LinearRegression()</pre><b>In a Jupyter environment, please rerun this cell to show the HTML representation or trust the notebook. <br />On GitHub, the HTML representation is unable to render, please try loading this page with nbviewer.org.</b></div><div class=\"sk-container\" hidden><div class=\"sk-item\"><div class=\"sk-estimator sk-toggleable\"><input class=\"sk-toggleable__control sk-hidden--visually\" id=\"sk-estimator-id-1\" type=\"checkbox\" checked><label for=\"sk-estimator-id-1\" class=\"sk-toggleable__label sk-toggleable__label-arrow\">LinearRegression</label><div class=\"sk-toggleable__content\"><pre>LinearRegression()</pre></div></div></div></div></div>"
            ]
          },
          "metadata": {},
          "execution_count": 12
        }
      ]
    },
    {
      "cell_type": "code",
      "source": [
        "y_pred = lm.predict(x_test)"
      ],
      "metadata": {
        "id": "cYJObv4uVCk1"
      },
      "execution_count": null,
      "outputs": []
    },
    {
      "cell_type": "code",
      "source": [
        "y_pred"
      ],
      "metadata": {
        "colab": {
          "base_uri": "https://localhost:8080/"
        },
        "id": "0We-oRByVJYm",
        "outputId": "1070f816-3cd2-4f7c-9b9e-5706ca331c1e"
      },
      "execution_count": null,
      "outputs": [
        {
          "output_type": "execute_result",
          "data": {
            "text/plain": [
              "array([ 813753.12363134, 1561341.17030011, 1322582.87652348,\n",
              "       1190215.56630053,  968260.43325796, 1249860.41991273,\n",
              "       1191758.54910725,  733746.63651797, 1216582.24271398,\n",
              "       1538401.22886842, 1139814.96714313,  972026.92349771,\n",
              "        971695.8115604 , 1811045.25104437, 1338458.13253813,\n",
              "        685127.16330808, 2181177.12512081,  929403.99610087,\n",
              "       1189986.05170268,  807237.28096054,  736250.10737566,\n",
              "       1438114.15800027, 2048294.99691056, 1534398.33497003,\n",
              "        703953.08069495, 1444424.72005472, 1922986.49988419,\n",
              "        801154.79619054, 1676687.47719836, 1022257.07014819,\n",
              "       1121728.53914388, 1218410.23676144, 1197062.82384833,\n",
              "       1324414.49798594, 1902202.67126738, 1702270.95386981,\n",
              "       1675888.41201409, 1536171.3752967 , 1067886.59297435,\n",
              "        664346.24049277, 1638403.48602687, 1772556.58910596,\n",
              "       1510281.77109827,  874164.99159017, 1182172.39732145,\n",
              "        928413.78233099, 1415593.77237056, 1474509.83872385,\n",
              "       1769678.38362279, 1667334.61218946, 1486709.28769257,\n",
              "       1145934.27843311, 1731690.02986319, 1154203.22947646,\n",
              "       1871212.67272564,  795912.48454809,  761700.17651264,\n",
              "       1255325.35707957, 1332909.18316412, 1442761.73207206,\n",
              "       1088313.57096974, 1297869.18862841, 1273400.35160585,\n",
              "       1699109.39228689,  817123.62514124,  774903.53090517,\n",
              "        901600.14096543, 1171030.15527573,  905337.63555112,\n",
              "       1755694.04442607, 1156167.49925212,  971330.59427238,\n",
              "       1080138.12006735,  616238.22925339,  963892.7039734 ,\n",
              "       1041402.3451061 , 1043260.47778077,  850023.5244457 ,\n",
              "       1170233.93463891, 1330796.74448725, 1230634.86402484,\n",
              "       1353908.624887  , 1059059.49897481,  885729.58798251,\n",
              "       1804936.70497399, 1263366.57458666,  707815.31085896,\n",
              "       1717834.7084413 , 1316183.62806778, 1037984.57731938,\n",
              "       1097272.20444432,  868198.68678368, 1332081.02158752,\n",
              "       1334090.49489626, 1737391.27819364, 1356956.62477843,\n",
              "       1126434.32815489, 1520329.99661009, 1390599.02470195,\n",
              "       2226965.33227205, 1026590.52840884, 1376737.36931984,\n",
              "        704947.20931224, 1008763.59428014,  976047.21160712,\n",
              "       1327873.74469101, 1398688.73906921, 1432044.73745819,\n",
              "       1100145.95226459, 1529470.74824833,  572742.23840743,\n",
              "        703277.17713718, 1426960.53944939, 1429441.27291093,\n",
              "       1717332.50546284, 1365594.5347194 , 1187319.86558445,\n",
              "       1219262.23292295,  421834.99385193, 1108691.3583215 ,\n",
              "        882863.37952817, 1515589.07154836, 1309776.49146951,\n",
              "        980596.86839105,  833317.93468207, 1833031.03123367,\n",
              "       1655165.75647026, 1137891.05490763,  841539.18602259,\n",
              "        967831.29769885, 1050616.23889673,  461557.26372588,\n",
              "       1650368.50143187, 1625919.59368088,  866179.91302598,\n",
              "       1741339.05663661,  787581.48028753, 1030137.08719708,\n",
              "       1047817.35604171,  913002.90196129, 1046857.87957404,\n",
              "       1232744.42573302, 1534818.91365277,  785199.44034344,\n",
              "       1502522.30038661, 1500852.11911173, 1137413.90553549,\n",
              "        934820.12332615, 1045164.51830169, 1312756.48679538,\n",
              "       1174887.74546483, 1161438.38702648, 1624213.22159314,\n",
              "       1354801.83943018, 1246704.29025019, 1166515.98419653,\n",
              "       1610421.75076287,  980845.44942545,  812902.46346054,\n",
              "       1151108.10677922, 1349389.76443426,  987843.6342602 ,\n",
              "       1419307.94306986, 1845500.46252756, 1232739.31986052,\n",
              "       1787440.64311455, 2117290.19242301, 1054951.28454297,\n",
              "       2144866.86170055,  839169.939303  , 1775045.00440743,\n",
              "       1440142.42028537,  718032.0508771 , 1721509.10270511,\n",
              "       1273149.33592419, 1396400.50229339,  800632.13834156,\n",
              "       1437169.25342044, 1106535.99565984,  793823.36891562,\n",
              "       1236199.83216406,  814655.77109517, 1563133.2817055 ,\n",
              "       1800206.33840586, 1491677.96187769, 1425571.68833441,\n",
              "       1182525.75578221, 1167814.91023617, 1306591.89385502,\n",
              "       1181554.47406628,  777692.17176323, 1284498.61598478,\n",
              "       1292906.93778864,  493514.58531127, 1202768.1120883 ,\n",
              "       1435054.69400364, 1324728.60375641,  754160.8781317 ,\n",
              "       1214279.60942638, 1285647.53975766, 1224446.26276866,\n",
              "       2179007.76692343, 1196593.71908286, 1235568.38955288,\n",
              "       1634158.0711925 ,  975146.06369329, 1626325.2346523 ,\n",
              "       1771668.83254416, 1393101.39425242, 1122395.36310763,\n",
              "       1876500.8820529 ,  930061.80342905,  964023.79081457,\n",
              "       1279731.50686953,  986626.39171979, 1220149.81514653,\n",
              "       1199778.97765299, 1322187.3564426 ,  842754.76659613,\n",
              "       1680870.09577561,  851265.78383885,  987622.32336374,\n",
              "       1520582.54379633, 1486306.37991563, 1273622.13961042,\n",
              "       1505872.39750597, 1036679.03161568, 1497416.92144736,\n",
              "       1016430.78737213, 1254221.1419728 , 1267775.88112213,\n",
              "       1283307.70435363, 1810107.19114674, 1086396.22957109,\n",
              "       1749155.07586862, 1351312.18593266, 1353315.71990606,\n",
              "       1284846.29086346, 1355142.28938981, 1124460.00485746,\n",
              "       1727624.39040759, 1140202.2159043 , 1484633.19160116,\n",
              "       1251377.76937334,  455345.4413052 , 1365251.48130396,\n",
              "       1289875.15300815, 1322366.49451435,  958599.45616127,\n",
              "       1493437.06439696,  921898.51739366,  834184.6233425 ,\n",
              "       1099883.26456372, 1335100.70968676, 1213813.63223001,\n",
              "        947817.43143748, 1665924.80301586,  943754.53917667,\n",
              "        918682.24646261, 1126844.24655566, 1292322.57863959,\n",
              "       1324761.25205934, 1273098.14631543, 1010958.17247253,\n",
              "       2325727.79621608, 1131036.82580867, 1501644.84046872,\n",
              "       1357572.31726876, 1718351.30035497, 1558285.63354819,\n",
              "       1036735.86778504,  992668.58587352,  955498.64585849,\n",
              "        441362.62137725, 1283719.63563537,  802585.24507953,\n",
              "       1617635.68276189, 1017965.35708061, 1411518.06089303,\n",
              "       1249660.56822331, 1562703.81935794, 1043346.2098618 ,\n",
              "       1475970.6297658 , 1791696.84459156, 1291954.29834617,\n",
              "       1457812.37592044, 1860719.21424389,  877946.67697062,\n",
              "       1112282.02480925, 1279208.03474965, 1290453.15893239,\n",
              "       1098972.61034087, 1588191.97355124, 1057482.9052098 ,\n",
              "        779043.35899154,  953369.54530992, 1491722.19505017,\n",
              "       1046026.96252339, 1127834.67963982, 1336538.74992583,\n",
              "       1065774.27361555, 1534510.08948182,  982876.25199451,\n",
              "       1230284.13924195, 1276280.23739817, 1250017.53570669,\n",
              "        845826.54899471, 1842471.21433533,  833904.56103512,\n",
              "       1286165.39557354, 1034316.11809804, 1078522.03986947,\n",
              "        527985.61864026, 1146941.4968969 , 1299122.57296107,\n",
              "       1514442.08062984, 1646700.53674433, 2077170.66520175,\n",
              "       1231352.16648636, 1490557.03449123, 1057226.44680465,\n",
              "        878060.18832175,  918745.63871537, 1457358.83703702,\n",
              "       1779269.0980609 ,  477878.18344822,  764066.71221921,\n",
              "       1411898.93010646, 1465934.45690919, 1128486.02965923,\n",
              "       1192583.69463419,  823524.67062152, 1553847.98422244,\n",
              "       1309845.38532327,  929760.07110553, 1303205.40412911,\n",
              "       1445237.11080421, 1405746.41396224,  989807.21144391,\n",
              "       1449124.97424002,  994923.41378817, 1183953.37716634,\n",
              "       1309644.35015531, 1461685.39730825, 1386558.59336089,\n",
              "       1003839.18783666, 1014377.67811423, 1474025.18235945,\n",
              "       1324745.01431264, 1862161.55591911, 2136869.43359127,\n",
              "       1577869.10341417, 1799445.5934759 , 1286321.57365762,\n",
              "       1043439.58476252, 1272419.54050641,  831630.89671063,\n",
              "       1343090.44741032,  507403.97185535, 2085460.19705036,\n",
              "        747946.43859477, 1258226.35436791, 1081246.42643228,\n",
              "       1292652.87783032, 1115765.98829412, 1276121.42801448,\n",
              "       1260620.07130059, 1522911.26289531, 1185295.11201387,\n",
              "       1290281.58544175,  938004.66745866, 1074987.1997164 ,\n",
              "        972887.7268368 ,  707622.61465257,  649661.82917547,\n",
              "       1221366.09210529,  669295.893871  , 1546295.90720309,\n",
              "       1598385.59576468,  739981.86981043,  508658.39616073,\n",
              "       1230003.27669726, 1216118.81041521, 1256014.42596061,\n",
              "       1375059.21743447, 1439847.54761495, 1229405.25972381,\n",
              "       1369318.26175157, 1282333.53455326, 1342887.5591619 ,\n",
              "       1010487.34531891, 1182783.29053172, 1078581.42692794,\n",
              "       1541844.91692931, 1306448.75853702,  863602.8188807 ,\n",
              "       1411520.9294805 , 1829526.94171871,  874849.08775078,\n",
              "       1144373.03471463, 1825007.46176007, 1268489.9104794 ,\n",
              "        780753.12558318, 1087384.21584289, 1346259.52612398,\n",
              "        942423.73960447, 1683261.54279581, 1538931.79224475,\n",
              "        846870.17436928, 1159962.88632104, 1598732.19635089,\n",
              "       1392410.23214676, 1466820.10190498, 1451034.14910016,\n",
              "       1748196.28441518, 1510947.99333835, 1298677.96155544,\n",
              "       1165130.46615063,  683604.95082383,  850299.07347391,\n",
              "       1613643.71092257, 1835831.42503247, 1414059.77937814,\n",
              "        857121.95543931, 1429346.71817308, 1129174.01643005,\n",
              "        562068.97682045,  967476.08082677, 1057282.50789767,\n",
              "       1157923.68506472, 1415136.5718599 , 1269273.3264696 ,\n",
              "       1513306.20502872, 1501891.04448984, 1135414.03216361,\n",
              "       1378098.81169553, 1478029.61505768, 1842458.47575678,\n",
              "       1450669.68290409, 1031266.1986514 , 1340736.24815661,\n",
              "       1271641.81734793, 1405440.47300691, 1409278.75628295,\n",
              "       1360179.24701207, 1539861.79121932,  681486.95861431,\n",
              "       1223871.32547734, 1038583.19481408,  805848.41212128,\n",
              "       1443794.86917995,  706232.38193819,  972468.44317446,\n",
              "       1173850.77275225, 1198300.92725301,  540781.6515547 ,\n",
              "       1409996.68858246, 1310982.99334241,  846645.91054061,\n",
              "        692041.8022184 ,  869351.24299531, 1125374.80669477,\n",
              "       1022903.84074541, 1179139.9509643 , 1104890.7345349 ,\n",
              "       1038040.96479446, 1029208.99346908, 1281211.262588  ,\n",
              "       1047505.72595705,  884331.67760462, 1237365.42950352,\n",
              "       1353893.2256277 , 1572961.72860449,  754234.18047431,\n",
              "       1512737.52566108, 1769146.58059332, 1298851.60480053,\n",
              "       1312436.26952629,  476938.41420921,  896136.16915148,\n",
              "       1485052.54356285,  826485.48325026,  387175.87849699,\n",
              "       1633297.25891094, 1430534.81181193, 1498974.04904867,\n",
              "        678815.07050155, 1530278.91914877,  893055.85926928,\n",
              "       1329024.00182803, 1012865.65626298, 1787860.68528405,\n",
              "       1051204.21772618, 1296205.69153619, 1105993.04672505,\n",
              "       1277802.46034726, 1107065.74915472, 1735078.03572226,\n",
              "       1161467.92631694, 1251620.58782893, 1052861.66146931,\n",
              "        956042.6737605 , 1053628.87735786,  701926.54475284,\n",
              "        820561.14475275, 1376062.11793782, 1270676.87947859,\n",
              "        892384.69789578, 1664991.02791066,  884442.07011652,\n",
              "       1230769.24303954, 1731169.31891336, 1030017.57002634,\n",
              "       1947224.83892861, 1519114.11879065, 1355804.9317339 ,\n",
              "       1645500.29812384,  951446.40308469, 1127340.45266742,\n",
              "       1057483.92641929,  862426.70278654, 1368982.12833348,\n",
              "        398920.79789013, 1401529.12510254, 1171239.36726279,\n",
              "       1434465.22350902, 1280759.10571847, 1887600.14551219,\n",
              "       1380839.38653762, 1695399.66446637, 1116564.65504242,\n",
              "        994936.18946025,  553707.46983306, 1470747.87321192,\n",
              "        671884.69401784, 1552939.45576164, 1979514.80580441,\n",
              "       1686399.16543229, 1587465.91604279, 1370978.85755746,\n",
              "       1268493.14939432, 1556682.69839382, 1708020.13540784,\n",
              "        994574.92627979, 1300435.87856081, 1919483.91630812,\n",
              "        331025.80249907, 1617464.75297222,  994527.44506462,\n",
              "       1082974.04286876,  592963.40467196,  932832.67494848,\n",
              "       1537727.63670138, 1053193.7333321 , 1800706.03292516,\n",
              "        916157.25330038, 1497103.07699387, 1218611.09113992,\n",
              "        606709.85228525, 1128972.28477589,  803812.75642267,\n",
              "       1360238.96172216, 1098652.42284086, 1478874.91771444,\n",
              "       1062070.77072651,  898916.31826697, 1045459.73193659,\n",
              "        374119.46235178, 1532996.55948542, 1700558.87146576,\n",
              "        851990.34830197, 1823337.56034499, 1292887.55879669,\n",
              "       1858019.16501645, 1035857.61951257, 1600403.23190122,\n",
              "        877422.18685866, 1912237.31773235, 1426867.96575398,\n",
              "       1279526.54025765,  813182.85365565, 1155986.49689511,\n",
              "       1211653.34767623, 1263913.34240387, 1363540.9763079 ,\n",
              "       1748802.35447395, 1048484.87345247, 1418674.3899366 ,\n",
              "        767832.07620156, 1340993.56249214, 1283988.77528774,\n",
              "       1362116.94818444, 1491886.97807889, 1245869.050737  ,\n",
              "        953542.06816442,  894240.84378975, 1759303.97068898,\n",
              "       1110163.20223187, 1023976.03024054,  996104.6085601 ,\n",
              "       1164047.20275652, 1258681.80685741, 1761595.62305055,\n",
              "       1276303.53745046,  941080.01628998, 1039059.93217784,\n",
              "       1661040.92700108, 1113308.63528542,  887595.75351862,\n",
              "       1191335.18512695, 1230764.76535228, 1875784.98546124,\n",
              "       1359450.18365756,  888147.57580496, 1595071.83415893,\n",
              "        921195.94855844,  948282.01388786, 1095191.68247412,\n",
              "       1176675.07149885, 1375100.84672777, 1144234.72839262,\n",
              "       1181245.27466033, 1243587.31966918, 1200344.49191333,\n",
              "       1472346.57388469,  728659.62879069, 1218802.26385215,\n",
              "       1809649.23023581,  730787.42939905, 1258720.45956831,\n",
              "        851828.08163699, 1953326.54053417,  876913.92473002,\n",
              "       1618137.71854344, 1517606.66229507, 1142524.74330144,\n",
              "        661341.17752843,  990074.52829932, 1365835.65468074,\n",
              "       1075702.78848411, 1356693.70394026, 1284889.82800428,\n",
              "        986688.95316855, 1089708.3924928 ,  992945.40683605,\n",
              "       1770023.01790096,  894964.1427599 ,  763861.65976666,\n",
              "       1692539.11107929,  875575.71219918, 1512794.96603709,\n",
              "        571919.72242033, 1325274.17634256, 1167742.27609156,\n",
              "        781623.02487068,  918327.9867479 , 1290607.61558745,\n",
              "       1459892.20219112, 1624844.00919949, 1476289.82925725,\n",
              "        642289.82216675,  769045.61168916, 1337335.47358553,\n",
              "       1272863.75343294, 1508612.67222639, 1455898.97322335,\n",
              "       1736759.34684302,  893961.85791001, 1005671.24298345,\n",
              "       1257572.25539628,  900536.28154371, 1534129.40617171,\n",
              "       1266394.85805518, 1700886.2618042 , 1814276.28233685,\n",
              "       1067398.32621762,  936612.31173907, 1191891.88192053,\n",
              "       1713615.94872631,  823295.30634257,  954841.98311329,\n",
              "       1041539.91115057, 1104845.85418401, 1544623.20331686,\n",
              "       1405695.0652371 ,  884609.89047617, 1337782.99471254,\n",
              "       1241322.97421701,  867046.027359  , 1251984.88609071,\n",
              "       1060933.5781652 ,  846758.9559381 , 1126738.08312602,\n",
              "       1506259.28961945, 1299982.24176456, 1123346.4832426 ,\n",
              "       1067797.33168309, 1420690.74648194, 1314518.58654161,\n",
              "        582247.19931643, 1675265.01059502, 1523617.03975054,\n",
              "       1324996.87361221, 1081760.70765054, 1341171.50956439,\n",
              "       1347292.43379025,  937547.59954582, 1239310.1810585 ,\n",
              "       1578320.66189265, 1172960.23117834,  905816.94772158,\n",
              "       1486381.25791243, 1058796.00762951, 1242924.75934981,\n",
              "       1611296.24606568, 1720526.93696142, 1365938.19337236,\n",
              "       1572208.28876448, 1307976.18401628, 1680026.41219772,\n",
              "       1375396.92780754, 1007186.13861434, 1196800.81133965,\n",
              "       1443618.41883652,  865008.55659532, 1521937.7039448 ,\n",
              "       1137518.59751221, 1305149.10308331,  934579.96816881,\n",
              "       1501911.32623026, 1663758.0984038 , 1463238.48536248,\n",
              "       1220489.96364334,  498966.43301748, 1458653.137101  ,\n",
              "       1545799.32317684, 1663238.50559192, 1259879.12837233,\n",
              "       1415512.44321154, 1252276.7995756 , 1170566.904434  ,\n",
              "       1560646.70047403,  680781.41783045, 1816944.02221562,\n",
              "       1204657.58049737, 1290361.96961469, 1831659.90279935,\n",
              "        887903.21989536, 1306384.2588213 , 1103926.49710746,\n",
              "       1838740.2293435 , 1030166.769749  , 1409405.43975653,\n",
              "        960525.558029  , 1999857.27222271, 1502973.94138998,\n",
              "        774538.29999032, 1526899.24764249, 1618291.88245418,\n",
              "       1184683.43936631, 1253516.75789628, 1251807.80725678,\n",
              "       1213872.64605092,  848923.98500638, 1221686.22125049,\n",
              "       1028472.43132095, 1316270.81517481, 1634176.831342  ,\n",
              "        979248.28609308,  790896.36226722, 1121635.77359789,\n",
              "        610851.0876713 , 1324247.5796509 , 1478099.02640951,\n",
              "        998912.0772273 , 1182845.30030203, 1917627.50339277,\n",
              "        849529.76398788,  652853.74470126, 1067552.39616199,\n",
              "       1142418.84858114, 1124050.24924049, 1446227.24430313,\n",
              "       1195242.06187175, 1115370.4653403 ,  994148.89363011,\n",
              "       1538611.66592817,  767222.98234038, 1501786.27881058,\n",
              "       1432791.91862066, 1185383.30939065, 1344890.82284284,\n",
              "       1400500.13962962, 1357092.42695606, 1543808.66199165,\n",
              "        891669.91595389, 1454488.19927147, 1094428.69278776,\n",
              "       1517048.01519734, 1170461.77986155, 1419412.0401943 ,\n",
              "       1978860.66390735, 1100314.91968929, 1777833.05356151,\n",
              "       1267421.02617444, 1132792.82891293,  405291.58685133,\n",
              "       1116229.56624877, 1493673.3660192 , 1348012.34939048,\n",
              "        698416.08123801, 1052762.57071818,  919643.42344537,\n",
              "       1625348.98903498, 1252482.41631782, 1227562.74047017,\n",
              "        749752.15842325, 1513619.44194344, 1724818.23407117,\n",
              "       1067363.18151035,  751445.4500867 ,  765741.05402968,\n",
              "        967082.41455213, 1601663.63436854, 1089116.17952927,\n",
              "       1118981.63929999,  974542.66880602,  805394.3040882 ,\n",
              "       1211782.07503811,  848057.96340048,  635183.13680321,\n",
              "        887793.45530771,  891901.129714  , 1427163.66123076,\n",
              "       1023237.64755613, 1333630.49699428,  955719.86711191,\n",
              "       1618180.71692309,  933015.62264164, 1233687.47819933,\n",
              "       1079199.18289458, 1339098.56490495,  858600.56903529,\n",
              "        731900.93088243,  969971.72771033, 1387929.27768677,\n",
              "       1218651.22186012, 1102863.38709249, 1649987.96678852,\n",
              "       1355806.15980917, 1225473.57429387, 1073716.12424498,\n",
              "        761742.75241571,  974913.28675589,  788100.219306  ,\n",
              "       1415026.08656683,  979057.91805793, 1025460.03828176,\n",
              "        842391.00896041, 1567450.89649643,  670949.12431085,\n",
              "        987392.94693456, 1390268.29415066, 1228033.41084383,\n",
              "        877930.78371034, 1375586.94424946, 1144972.64428733,\n",
              "       1247218.32447184, 1446471.40492209, 1433943.14307221,\n",
              "       1903765.83754851, 1258564.99385106, 1586003.70900864,\n",
              "        510785.39574446,  939938.62445654, 1617878.04317017,\n",
              "       1247085.18705323, 1081842.99815945, 1240480.60295242,\n",
              "       1721426.00514048,  919478.86113652, 1277912.81034816,\n",
              "       1134065.56173339,  673514.20110087, 1651409.06055541,\n",
              "       1878157.71342124, 1156117.22652399, 1221258.29359371,\n",
              "       1324490.9650995 , 1294042.68679284, 1260142.48653318,\n",
              "       1314503.98469185,  686692.42157687,  734944.52922518,\n",
              "       1690036.14783203, 1527182.37680337,  295182.44231494,\n",
              "       1768622.15950903, 1474762.57351215,  806951.01264284,\n",
              "        664631.21877257, 1495969.61669585, 1554720.23983912,\n",
              "       1190905.60889077,  952064.78559486, 1169917.73968515,\n",
              "       1085432.86877605, 1171152.39937586,  878516.17759428,\n",
              "       1447239.27500066,  828902.08043946, 1287392.97246948,\n",
              "       1280478.95187706, 1179993.35500511, 1567508.57706808,\n",
              "        954136.53807846, 1681779.69589408, 1472162.62039533,\n",
              "        785959.96607929,  933520.82085703, 1552768.73629923,\n",
              "        854028.12619259,  854205.77957465, 1240856.90767655,\n",
              "       1375676.06057855, 1165294.39934327, 1751209.68207064,\n",
              "        592052.12240122, 1311036.61183871,  612638.25083045,\n",
              "       1190463.27477065, 1449671.57288566, 1498267.08055791,\n",
              "       1423365.93976008,  876998.44693037, 1318000.26256315,\n",
              "       1296164.26983087,  943759.98476942, 1077928.73761442,\n",
              "       1190512.34077375, 1459967.45033894, 1326630.37382915,\n",
              "        621320.89927305, 1021864.89334796, 1329484.4955318 ,\n",
              "       1595425.90489922,  782490.40360515, 1165244.84244561,\n",
              "        790254.48871506, 1104852.18664259,  724450.57414259,\n",
              "       1556554.17228156,  865817.65579139, 1371489.54149087,\n",
              "       1553105.99848328, 1878986.62647425, 1190415.14766129,\n",
              "       1536661.10133268, 1105115.18060033, 1329570.83500219,\n",
              "       1323452.05482236, 1323170.65694294, 1648413.51344245,\n",
              "       1858322.41937663, 1371988.58924964, 1935491.21136283,\n",
              "       1355680.48544164, 1292747.31574792,  980188.88361594,\n",
              "       1290027.00630633, 1360244.515446  , 1031236.89449512,\n",
              "       1534230.32024247, 1216688.70262073, 1606063.58738239,\n",
              "       1298832.07764565, 1374348.29247981, 2130738.6506634 ,\n",
              "        597290.49538995, 1124772.87763863, 1707186.27775274,\n",
              "       1430550.45105648, 1143070.47622705, 1252418.44899902,\n",
              "       1409411.59020716, 1047530.02944484, 1434414.67783583,\n",
              "       1503293.16902262,  293567.6160326 , 1407958.69505814,\n",
              "       1285033.22873304, 1242277.08988287,  530285.84747494,\n",
              "       1559487.6757951 , 1125871.95691826, 1393458.2908729 ,\n",
              "       1543601.54493728,  269373.70935576, 1287756.1376412 ,\n",
              "        927887.32706511])"
            ]
          },
          "metadata": {},
          "execution_count": 14
        }
      ]
    },
    {
      "cell_type": "code",
      "source": [],
      "metadata": {
        "id": "px49DAGRVKgz"
      },
      "execution_count": null,
      "outputs": []
    },
    {
      "cell_type": "markdown",
      "source": [
        "Model evaluation:\n",
        "\n",
        "1. MAE (Mean Absolute Error)\n",
        "2. MSE (Mean Squared Error)\n",
        "3. RMSE (Root Mean Squared Error)\n",
        "\n",
        "\n",
        "\n",
        "5 values\n",
        "\n",
        "50000   50500 (500)\n",
        "\n",
        "51000   52000 (1000)\n",
        "\n",
        "53000   53800 (800)\n",
        "\n",
        "40000   42000 (2000)\n",
        "\n",
        "70000   71000 (1000)"
      ],
      "metadata": {
        "id": "aRQR45_LVleq"
      }
    },
    {
      "cell_type": "code",
      "source": [
        "from sklearn import metrics"
      ],
      "metadata": {
        "id": "RNWuRLEtVxnp"
      },
      "execution_count": null,
      "outputs": []
    },
    {
      "cell_type": "code",
      "source": [
        "print(\"MAE : \",metrics.mean_absolute_error(y_test,y_pred))\n",
        "print(\"MSE : \",metrics.mean_squared_error(y_test,y_pred))\n",
        "print(\"RMSE : \",np.sqrt(metrics.mean_squared_error(y_test,y_pred)))"
      ],
      "metadata": {
        "colab": {
          "base_uri": "https://localhost:8080/"
        },
        "id": "kv8aXFpcWc52",
        "outputId": "8980234b-8055-4389-b54a-c4185c86249f"
      },
      "execution_count": null,
      "outputs": [
        {
          "output_type": "stream",
          "name": "stdout",
          "text": [
            "MAE :  81758.9821921854\n",
            "MSE :  10366319818.727695\n",
            "RMSE :  101815.12568733437\n"
          ]
        }
      ]
    },
    {
      "cell_type": "code",
      "source": [
        "25**0.5"
      ],
      "metadata": {
        "colab": {
          "base_uri": "https://localhost:8080/"
        },
        "id": "Zohp9PLxXiUw",
        "outputId": "d0e4d06f-c34b-404c-f28f-ea097f108ba1"
      },
      "execution_count": null,
      "outputs": [
        {
          "output_type": "execute_result",
          "data": {
            "text/plain": [
              "5.0"
            ]
          },
          "metadata": {},
          "execution_count": 19
        }
      ]
    },
    {
      "cell_type": "code",
      "source": [
        "np.sqrt(25)"
      ],
      "metadata": {
        "colab": {
          "base_uri": "https://localhost:8080/"
        },
        "id": "e0OMQby0X3zK",
        "outputId": "a42ee00f-a730-49c9-dedc-efaf349b8339"
      },
      "execution_count": null,
      "outputs": [
        {
          "output_type": "execute_result",
          "data": {
            "text/plain": [
              "5.0"
            ]
          },
          "metadata": {},
          "execution_count": 20
        }
      ]
    },
    {
      "cell_type": "code",
      "source": [
        "10366319818.727695 ** 0.5"
      ],
      "metadata": {
        "colab": {
          "base_uri": "https://localhost:8080/"
        },
        "id": "gLlV_NX4X5_m",
        "outputId": "1c33b900-35a1-467a-9f5e-e70ad1ba3b5c"
      },
      "execution_count": null,
      "outputs": [
        {
          "output_type": "execute_result",
          "data": {
            "text/plain": [
              "101815.12568733437"
            ]
          },
          "metadata": {},
          "execution_count": 21
        }
      ]
    },
    {
      "cell_type": "code",
      "source": [
        "plt.scatter(y_test,y_pred)"
      ],
      "metadata": {
        "colab": {
          "base_uri": "https://localhost:8080/",
          "height": 481
        },
        "id": "Vd0FDg2VYAfn",
        "outputId": "82f80817-1b22-476c-c4bf-a7cfac5ac5ff"
      },
      "execution_count": null,
      "outputs": [
        {
          "output_type": "execute_result",
          "data": {
            "text/plain": [
              "<matplotlib.collections.PathCollection at 0x7895defb31f0>"
            ]
          },
          "metadata": {},
          "execution_count": 22
        },
        {
          "output_type": "display_data",
          "data": {
            "text/plain": [
              "<Figure size 640x480 with 1 Axes>"
            ],
            "image/png": "[encoded data removed]"
          },
          "metadata": {}
        }
      ]
    },
    {
      "cell_type": "code",
      "source": [
        "#co-efficient, constant"
      ],
      "metadata": {
        "id": "B1ExbQl-YHXg"
      },
      "execution_count": null,
      "outputs": []
    }
  ]
}